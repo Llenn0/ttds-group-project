{
 "cells": [
  {
   "cell_type": "code",
   "execution_count": 1,
   "metadata": {},
   "outputs": [],
   "source": [
    "import os\n",
    "import re\n",
    "import time\n",
    "import requests\n",
    "\n",
    "import pickle\n",
    "from tqdm import tqdm, trange\n",
    "\n",
    "backend_url = \"https://ttds-gutenberg-fvyohsgcaq-nw.a.run.app/\"\n",
    "regex_language_line = re.compile(r\"(\\w+) \\([0-9]+ phrases\\):\")\n",
    "regex_phrase_line = re.compile(r\"(.+) \\((.+)\\)\")\n",
    "\n",
    "def fetch_english_testset(dir_: str=\"test_sets\", fname: str=\"generic.txt\"):\n",
    "    with open(os.path.join(dir_, fname), 'r', encoding=\"utf-8\") as f:\n",
    "        queries = f.read().splitlines()\n",
    "    return {q.strip('\"') : [] for q in queries if q}\n",
    "\n",
    "def fetch_multilingual_testset(dir_: str=\"test_sets\", fname: str=\"multi-lingual.txt\"):\n",
    "    all_queries: dict[str, dict] = dict()\n",
    "    current_language = None\n",
    "    with open(os.path.join(dir_, fname), 'r', encoding=\"utf-8\") as f:\n",
    "        queries = f.read().splitlines()\n",
    "    for line in queries:\n",
    "        match_language_line = regex_language_line.match(line)\n",
    "        if match_language_line is not None:\n",
    "            current_language = match_language_line.group(1).strip().casefold()\n",
    "            all_queries[current_language] = dict()\n",
    "            continue\n",
    "        match_phrase_line = regex_phrase_line.match(line)\n",
    "        all_queries[current_language][(match_phrase_line.group(1), match_phrase_line.group(2))] = []\n",
    "    return all_queries"
   ]
  },
  {
   "cell_type": "code",
   "execution_count": 2,
   "metadata": {},
   "outputs": [],
   "source": [
    "generic = fetch_english_testset(fname=\"generic.txt\")\n",
    "memorable = fetch_english_testset(fname=\"memorable.txt\")\n",
    "multi_lingual = fetch_multilingual_testset(fname=\"multi-lingual.txt\")"
   ]
  },
  {
   "cell_type": "code",
   "execution_count": 3,
   "metadata": {},
   "outputs": [],
   "source": [
    "query_template = {\n",
    "    \"query\"     : \"\",\n",
    "    \"languages\" : [\"english\"],\n",
    "    \"subjects\"  : [],\n",
    "    \"page\"      : 1,\n",
    "    \"dist\"      : 1,\n",
    "    \"numPerPage\": 100000\n",
    "}"
   ]
  },
  {
   "cell_type": "code",
   "execution_count": 4,
   "metadata": {},
   "outputs": [],
   "source": [
    "assert requests.post(backend_url + \"phrase\", json=query_template).json()[\"err_msg\"] == \"No error\""
   ]
  },
  {
   "cell_type": "code",
   "execution_count": 5,
   "metadata": {},
   "outputs": [],
   "source": [
    "def test_english(rounds: int=10, dist: int=3, *datasets):\n",
    "    with tqdm(total=len(datasets) * 100 * rounds, ncols=80, leave=False) as pbar:\n",
    "        for dataset in datasets:\n",
    "            for _ in range(rounds):\n",
    "                for query_str, record in dataset.items():\n",
    "                    query_json = query_template.copy()\n",
    "                    query_json[\"query\"] = query_str\n",
    "                    query_json[\"dist\"] = dist\n",
    "                    resp_json = requests.post(backend_url + \"phrase\", json=query_json).json()\n",
    "                    assert resp_json[\"err_msg\"] == \"No error\", f\"{query_str}\\n\"+ resp_json[\"err_msg\"]\n",
    "                    record.append(resp_json[\"queryTime\"])\n",
    "                    pbar.update()\n",
    "                    time.sleep(0.1)"
   ]
  },
  {
   "cell_type": "code",
   "execution_count": 6,
   "metadata": {},
   "outputs": [
    {
     "name": "stderr",
     "output_type": "stream",
     "text": [
      "  0%|                                                  | 0/2000 [00:00<?, ?it/s]"
     ]
    },
    {
     "name": "stderr",
     "output_type": "stream",
     "text": [
      "  1%|▎                                      | 13/2000 [00:38<1:24:30,  2.55s/it]"
     ]
    }
   ],
   "source": [
    "test_english(10, 3, generic, memorable)"
   ]
  },
  {
   "cell_type": "code",
   "execution_count": null,
   "metadata": {},
   "outputs": [],
   "source": [
    "with open(\"test_sets/english_results.pkl\", \"wb\") as f:\n",
    "    pickle.dump((generic, memorable), f, protocol=5)"
   ]
  }
 ],
 "metadata": {
  "kernelspec": {
   "display_name": "base",
   "language": "python",
   "name": "python3"
  },
  "language_info": {
   "codemirror_mode": {
    "name": "ipython",
    "version": 3
   },
   "file_extension": ".py",
   "mimetype": "text/x-python",
   "name": "python",
   "nbconvert_exporter": "python",
   "pygments_lexer": "ipython3",
   "version": "3.11.3"
  }
 },
 "nbformat": 4,
 "nbformat_minor": 2
}
