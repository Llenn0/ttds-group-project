{
 "cells": [
  {
   "cell_type": "code",
   "execution_count": 1,
   "metadata": {},
   "outputs": [],
   "source": [
    "import os\n",
    "import re\n",
    "import time\n",
    "import requests\n",
    "\n",
    "import pickle\n",
    "from tqdm import tqdm, trange\n",
    "\n",
    "backend_url = \"https://ttds-gutenberg-fvyohsgcaq-nw.a.run.app/\"\n",
    "regex_language_line = re.compile(r\"(\\w+) \\([0-9]+ phrases\\):\")\n",
    "regex_phrase_line = re.compile(r\"(.+) \\((.+)\\)\")\n",
    "\n",
    "def fetch_english_testset(dir_: str=\"test_sets\", fname: str=\"generic.txt\"):\n",
    "    with open(os.path.join(dir_, fname), 'r', encoding=\"utf-8\") as f:\n",
    "        queries = f.read().splitlines()\n",
    "    return {q.strip('\"') : [] for q in queries if q}\n",
    "\n",
    "def fetch_multilingual_testset(dir_: str=\"test_sets\", fname: str=\"multi-lingual.txt\"):\n",
    "    all_queries: dict[str, dict] = dict()\n",
    "    current_language = None\n",
    "    with open(os.path.join(dir_, fname), 'r', encoding=\"utf-8\") as f:\n",
    "        queries = f.read().splitlines()\n",
    "    for line in queries:\n",
    "        match_language_line = regex_language_line.match(line)\n",
    "        if match_language_line is not None:\n",
    "            current_language = match_language_line.group(1).strip().casefold()\n",
    "            all_queries[current_language] = dict()\n",
    "            continue\n",
    "        match_phrase_line = regex_phrase_line.match(line)\n",
    "        all_queries[current_language][(match_phrase_line.group(1), match_phrase_line.group(2))] = []\n",
    "    return all_queries"
   ]
  },
  {
   "cell_type": "code",
   "execution_count": 2,
   "metadata": {},
   "outputs": [],
   "source": [
    "generic = fetch_english_testset(fname=\"generic.txt\")\n",
    "memorable = fetch_english_testset(fname=\"memorable.txt\")\n",
    "multi_lingual = fetch_multilingual_testset(fname=\"multi-lingual.txt\")"
   ]
  },
  {
   "cell_type": "code",
   "execution_count": 3,
   "metadata": {},
   "outputs": [],
   "source": [
    "query_template = {\n",
    "    \"query\"     : \"\",\n",
    "    \"languages\" : [\"english\"],\n",
    "    \"subjects\"  : [],\n",
    "    \"page\"      : 1,\n",
    "    \"dist\"      : 1,\n",
    "    \"numPerPage\": 100000\n",
    "}"
   ]
  },
  {
   "cell_type": "code",
   "execution_count": 4,
   "metadata": {},
   "outputs": [],
   "source": [
    "assert requests.post(backend_url + \"phrase\", json=query_template).json()[\"err_msg\"] == \"No error\""
   ]
  },
  {
   "cell_type": "code",
   "execution_count": 5,
   "metadata": {},
   "outputs": [],
   "source": [
    "def test_english(rounds: int, dist: int, *datasets):\n",
    "    print(requests.post(backend_url + \"clearcache\", json={\"clear_cache\" : True}).json())\n",
    "    with tqdm(total=len(datasets) * 100 * rounds, ncols=80, leave=False) as pbar:\n",
    "        for dataset in datasets:\n",
    "            for _ in range(rounds):\n",
    "                for query_str, record in dataset.items():\n",
    "                    query_json = query_template.copy()\n",
    "                    query_json[\"query\"] = query_str\n",
    "                    query_json[\"dist\"] = dist\n",
    "                    resp_json = requests.post(backend_url + \"phrase\", json=query_json).json()\n",
    "                    assert resp_json[\"err_msg\"] == \"No error\", f\"{query_str}\\n\"+ resp_json[\"err_msg\"]\n",
    "                    record.append((resp_json[\"queryTime\"], resp_json[\"cache_size\"]))\n",
    "                    pbar.update()\n",
    "                    time.sleep(0.1)\n",
    "\n",
    "def test_multi_lingual(rounds: int, dist: int, datasets: dict):\n",
    "    print(requests.post(backend_url + \"clearcache\", json={\"clear_cache\" : True}).json())\n",
    "    total = sum(len(v) for v in datasets.values()) * rounds\n",
    "    with tqdm(total=total, ncols=80, leave=False) as pbar:\n",
    "        for language, dataset in datasets.items():\n",
    "            for _ in range(rounds):\n",
    "                for (query_str, query_english), record in dataset.items():\n",
    "                    query_json = query_template.copy()\n",
    "                    query_json[\"query\"] = query_str\n",
    "                    query_json[\"dist\"] = dist\n",
    "                    query_json[\"languages\"] = [language]\n",
    "                    resp_json = requests.post(backend_url + \"phrase\", json=query_json).json()\n",
    "                    assert resp_json[\"err_msg\"] == \"No error\", f\"{query_str}\\n\"+ resp_json[\"err_msg\"]\n",
    "                    record.append((resp_json[\"queryTime\"], resp_json[\"cache_size\"]))\n",
    "                    pbar.update()\n",
    "                    time.sleep(0.1)"
   ]
  },
  {
   "cell_type": "code",
   "execution_count": 6,
   "metadata": {},
   "outputs": [
    {
     "name": "stdout",
     "output_type": "stream",
     "text": [
      "{'err_msg': 'No error', 'index_size': 3}\n"
     ]
    },
    {
     "name": "stderr",
     "output_type": "stream",
     "text": [
      "                                                                                \r"
     ]
    },
    {
     "ename": "JSONDecodeError",
     "evalue": "Expecting value: line 1 column 1 (char 0)",
     "output_type": "error",
     "traceback": [
      "\u001b[1;31m---------------------------------------------------------------------------\u001b[0m",
      "\u001b[1;31mJSONDecodeError\u001b[0m                           Traceback (most recent call last)",
      "File \u001b[1;32mc:\\Users\\10022\\anaconda3\\Lib\\site-packages\\requests\\models.py:971\u001b[0m, in \u001b[0;36mResponse.json\u001b[1;34m(self, **kwargs)\u001b[0m\n\u001b[0;32m    970\u001b[0m \u001b[38;5;28;01mtry\u001b[39;00m:\n\u001b[1;32m--> 971\u001b[0m     \u001b[38;5;28;01mreturn\u001b[39;00m complexjson\u001b[38;5;241m.\u001b[39mloads(\u001b[38;5;28mself\u001b[39m\u001b[38;5;241m.\u001b[39mtext, \u001b[38;5;241m*\u001b[39m\u001b[38;5;241m*\u001b[39mkwargs)\n\u001b[0;32m    972\u001b[0m \u001b[38;5;28;01mexcept\u001b[39;00m JSONDecodeError \u001b[38;5;28;01mas\u001b[39;00m e:\n\u001b[0;32m    973\u001b[0m     \u001b[38;5;66;03m# Catch JSON-related errors and raise as requests.JSONDecodeError\u001b[39;00m\n\u001b[0;32m    974\u001b[0m     \u001b[38;5;66;03m# This aliases json.JSONDecodeError and simplejson.JSONDecodeError\u001b[39;00m\n",
      "File \u001b[1;32mc:\\Users\\10022\\anaconda3\\Lib\\json\\__init__.py:346\u001b[0m, in \u001b[0;36mloads\u001b[1;34m(s, cls, object_hook, parse_float, parse_int, parse_constant, object_pairs_hook, **kw)\u001b[0m\n\u001b[0;32m    343\u001b[0m \u001b[38;5;28;01mif\u001b[39;00m (\u001b[38;5;28mcls\u001b[39m \u001b[38;5;129;01mis\u001b[39;00m \u001b[38;5;28;01mNone\u001b[39;00m \u001b[38;5;129;01mand\u001b[39;00m object_hook \u001b[38;5;129;01mis\u001b[39;00m \u001b[38;5;28;01mNone\u001b[39;00m \u001b[38;5;129;01mand\u001b[39;00m\n\u001b[0;32m    344\u001b[0m         parse_int \u001b[38;5;129;01mis\u001b[39;00m \u001b[38;5;28;01mNone\u001b[39;00m \u001b[38;5;129;01mand\u001b[39;00m parse_float \u001b[38;5;129;01mis\u001b[39;00m \u001b[38;5;28;01mNone\u001b[39;00m \u001b[38;5;129;01mand\u001b[39;00m\n\u001b[0;32m    345\u001b[0m         parse_constant \u001b[38;5;129;01mis\u001b[39;00m \u001b[38;5;28;01mNone\u001b[39;00m \u001b[38;5;129;01mand\u001b[39;00m object_pairs_hook \u001b[38;5;129;01mis\u001b[39;00m \u001b[38;5;28;01mNone\u001b[39;00m \u001b[38;5;129;01mand\u001b[39;00m \u001b[38;5;129;01mnot\u001b[39;00m kw):\n\u001b[1;32m--> 346\u001b[0m     \u001b[38;5;28;01mreturn\u001b[39;00m _default_decoder\u001b[38;5;241m.\u001b[39mdecode(s)\n\u001b[0;32m    347\u001b[0m \u001b[38;5;28;01mif\u001b[39;00m \u001b[38;5;28mcls\u001b[39m \u001b[38;5;129;01mis\u001b[39;00m \u001b[38;5;28;01mNone\u001b[39;00m:\n",
      "File \u001b[1;32mc:\\Users\\10022\\anaconda3\\Lib\\json\\decoder.py:337\u001b[0m, in \u001b[0;36mJSONDecoder.decode\u001b[1;34m(self, s, _w)\u001b[0m\n\u001b[0;32m    333\u001b[0m \u001b[38;5;250m\u001b[39m\u001b[38;5;124;03m\"\"\"Return the Python representation of ``s`` (a ``str`` instance\u001b[39;00m\n\u001b[0;32m    334\u001b[0m \u001b[38;5;124;03mcontaining a JSON document).\u001b[39;00m\n\u001b[0;32m    335\u001b[0m \n\u001b[0;32m    336\u001b[0m \u001b[38;5;124;03m\"\"\"\u001b[39;00m\n\u001b[1;32m--> 337\u001b[0m obj, end \u001b[38;5;241m=\u001b[39m \u001b[38;5;28mself\u001b[39m\u001b[38;5;241m.\u001b[39mraw_decode(s, idx\u001b[38;5;241m=\u001b[39m_w(s, \u001b[38;5;241m0\u001b[39m)\u001b[38;5;241m.\u001b[39mend())\n\u001b[0;32m    338\u001b[0m end \u001b[38;5;241m=\u001b[39m _w(s, end)\u001b[38;5;241m.\u001b[39mend()\n",
      "File \u001b[1;32mc:\\Users\\10022\\anaconda3\\Lib\\json\\decoder.py:355\u001b[0m, in \u001b[0;36mJSONDecoder.raw_decode\u001b[1;34m(self, s, idx)\u001b[0m\n\u001b[0;32m    354\u001b[0m \u001b[38;5;28;01mexcept\u001b[39;00m \u001b[38;5;167;01mStopIteration\u001b[39;00m \u001b[38;5;28;01mas\u001b[39;00m err:\n\u001b[1;32m--> 355\u001b[0m     \u001b[38;5;28;01mraise\u001b[39;00m JSONDecodeError(\u001b[38;5;124m\"\u001b[39m\u001b[38;5;124mExpecting value\u001b[39m\u001b[38;5;124m\"\u001b[39m, s, err\u001b[38;5;241m.\u001b[39mvalue) \u001b[38;5;28;01mfrom\u001b[39;00m \u001b[38;5;28;01mNone\u001b[39;00m\n\u001b[0;32m    356\u001b[0m \u001b[38;5;28;01mreturn\u001b[39;00m obj, end\n",
      "\u001b[1;31mJSONDecodeError\u001b[0m: Expecting value: line 1 column 1 (char 0)",
      "\nDuring handling of the above exception, another exception occurred:\n",
      "\u001b[1;31mJSONDecodeError\u001b[0m                           Traceback (most recent call last)",
      "Cell \u001b[1;32mIn[6], line 1\u001b[0m\n\u001b[1;32m----> 1\u001b[0m test_english(\u001b[38;5;241m10\u001b[39m, \u001b[38;5;241m3\u001b[39m, generic, memorable)\n",
      "Cell \u001b[1;32mIn[5], line 10\u001b[0m, in \u001b[0;36mtest_english\u001b[1;34m(rounds, dist, *datasets)\u001b[0m\n\u001b[0;32m      8\u001b[0m query_json[\u001b[38;5;124m\"\u001b[39m\u001b[38;5;124mquery\u001b[39m\u001b[38;5;124m\"\u001b[39m] \u001b[38;5;241m=\u001b[39m query_str\n\u001b[0;32m      9\u001b[0m query_json[\u001b[38;5;124m\"\u001b[39m\u001b[38;5;124mdist\u001b[39m\u001b[38;5;124m\"\u001b[39m] \u001b[38;5;241m=\u001b[39m dist\n\u001b[1;32m---> 10\u001b[0m resp_json \u001b[38;5;241m=\u001b[39m requests\u001b[38;5;241m.\u001b[39mpost(backend_url \u001b[38;5;241m+\u001b[39m \u001b[38;5;124m\"\u001b[39m\u001b[38;5;124mphrase\u001b[39m\u001b[38;5;124m\"\u001b[39m, json\u001b[38;5;241m=\u001b[39mquery_json)\u001b[38;5;241m.\u001b[39mjson()\n\u001b[0;32m     11\u001b[0m \u001b[38;5;28;01massert\u001b[39;00m resp_json[\u001b[38;5;124m\"\u001b[39m\u001b[38;5;124merr_msg\u001b[39m\u001b[38;5;124m\"\u001b[39m] \u001b[38;5;241m==\u001b[39m \u001b[38;5;124m\"\u001b[39m\u001b[38;5;124mNo error\u001b[39m\u001b[38;5;124m\"\u001b[39m, \u001b[38;5;124mf\u001b[39m\u001b[38;5;124m\"\u001b[39m\u001b[38;5;132;01m{\u001b[39;00mquery_str\u001b[38;5;132;01m}\u001b[39;00m\u001b[38;5;130;01m\\n\u001b[39;00m\u001b[38;5;124m\"\u001b[39m\u001b[38;5;241m+\u001b[39m resp_json[\u001b[38;5;124m\"\u001b[39m\u001b[38;5;124merr_msg\u001b[39m\u001b[38;5;124m\"\u001b[39m]\n\u001b[0;32m     12\u001b[0m record\u001b[38;5;241m.\u001b[39mappend((resp_json[\u001b[38;5;124m\"\u001b[39m\u001b[38;5;124mqueryTime\u001b[39m\u001b[38;5;124m\"\u001b[39m], resp_json[\u001b[38;5;124m\"\u001b[39m\u001b[38;5;124mcache_size\u001b[39m\u001b[38;5;124m\"\u001b[39m]))\n",
      "File \u001b[1;32mc:\\Users\\10022\\anaconda3\\Lib\\site-packages\\requests\\models.py:975\u001b[0m, in \u001b[0;36mResponse.json\u001b[1;34m(self, **kwargs)\u001b[0m\n\u001b[0;32m    971\u001b[0m     \u001b[38;5;28;01mreturn\u001b[39;00m complexjson\u001b[38;5;241m.\u001b[39mloads(\u001b[38;5;28mself\u001b[39m\u001b[38;5;241m.\u001b[39mtext, \u001b[38;5;241m*\u001b[39m\u001b[38;5;241m*\u001b[39mkwargs)\n\u001b[0;32m    972\u001b[0m \u001b[38;5;28;01mexcept\u001b[39;00m JSONDecodeError \u001b[38;5;28;01mas\u001b[39;00m e:\n\u001b[0;32m    973\u001b[0m     \u001b[38;5;66;03m# Catch JSON-related errors and raise as requests.JSONDecodeError\u001b[39;00m\n\u001b[0;32m    974\u001b[0m     \u001b[38;5;66;03m# This aliases json.JSONDecodeError and simplejson.JSONDecodeError\u001b[39;00m\n\u001b[1;32m--> 975\u001b[0m     \u001b[38;5;28;01mraise\u001b[39;00m RequestsJSONDecodeError(e\u001b[38;5;241m.\u001b[39mmsg, e\u001b[38;5;241m.\u001b[39mdoc, e\u001b[38;5;241m.\u001b[39mpos)\n",
      "\u001b[1;31mJSONDecodeError\u001b[0m: Expecting value: line 1 column 1 (char 0)"
     ]
    }
   ],
   "source": [
    "test_english(10, 3, generic, memorable)"
   ]
  },
  {
   "cell_type": "code",
   "execution_count": null,
   "metadata": {},
   "outputs": [],
   "source": [
    "test_multi_lingual(10, 3, multi_lingual)"
   ]
  },
  {
   "cell_type": "code",
   "execution_count": null,
   "metadata": {},
   "outputs": [],
   "source": [
    "with open(\"test_sets/test_results.pkl\", \"wb\") as f:\n",
    "    pickle.dump((generic, memorable, multi_lingual), f, protocol=5)"
   ]
  },
  {
   "cell_type": "code",
   "execution_count": null,
   "metadata": {},
   "outputs": [],
   "source": [
    "with open(\"test_sets/partial_results.pkl\", \"wb\") as f:\n",
    "    pickle.dump((generic, memorable, multi_lingual), f, protocol=5)"
   ]
  },
  {
   "cell_type": "code",
   "execution_count": 7,
   "metadata": {},
   "outputs": [
    {
     "data": {
      "text/plain": [
       "{'A walk in the park': [(2.281963348388672, 11), (1.9976036548614502, 397)],\n",
       " 'The sun rose over the hills': [(3.752171516418457, 30),\n",
       "  (3.5701582431793213, 416)],\n",
       " 'A quiet, small town': [(4.2121076583862305, 54), (3.9876163005828857, 440)],\n",
       " 'The bustling city streets': [(2.9834766387939453, 71),\n",
       "  (2.5177524089813232, 457)],\n",
       " 'Lost in thought': [(3.7271931171417236, 95), (3.672752857208252, 481)],\n",
       " 'A moment of realization': [(2.4734902381896973, 110),\n",
       "  (1.0236351490020752, 484)],\n",
       " 'The taste of freedom': [(1.9344511032104492, 117),\n",
       "  (1.7960398197174072, 491)],\n",
       " 'A cold winter night': [(4.164812326431274, 141), (3.984376907348633, 515)],\n",
       " 'The warmth of summer': [(1.3845715522766113, 146), (1.377873420715332, 520)],\n",
       " 'An unexpected visitor': [(1.387603759765625, 150),\n",
       "  (1.3425376415252686, 524)],\n",
       " 'A letter arrived': [(3.045915126800537, 167), (2.585296630859375, 541)],\n",
       " 'The sound of laughter': [(2.0476531982421875, 177),\n",
       "  (1.946216106414795, 551)],\n",
       " 'Tears of joy': [(2.346754789352417, 187), (2.1013312339782715, 561)],\n",
       " 'A sense of belonging': [(2.657053232192993, 198), (2.39302134513855, 572)],\n",
       " 'Caught in the rain': [(2.088531255722046, 206), (1.8441450595855713, 580)],\n",
       " 'A cup of tea': [(1.5705397129058838, 212), (1.455141544342041, 586)],\n",
       " 'The flickering candlelight': [(0.3720128536224365, 214),\n",
       "  (0.3264901638031006, 588)],\n",
       " 'A secret garden': [(2.4935462474823, 224), (2.1803481578826904, 598)],\n",
       " 'The clinking of glasses': [(1.0118119716644287, 229),\n",
       "  (0.9983425140380859, 603)],\n",
       " 'A mysterious stranger': [(2.1418704986572266, 237),\n",
       "  (1.156261920928955, 607)],\n",
       " 'Whispers in the dark': [(2.4430391788482666, 249), (2.195845127105713, 619)],\n",
       " 'A crackling fireplace': [(0.45758557319641113, 251),\n",
       "  (0.4225451946258545, 621)],\n",
       " 'Footsteps in the hallway': [(0.5432822704315186, 253),\n",
       "  (0.4371316432952881, 623)],\n",
       " 'The turning of a page': [(3.5603153705596924, 274),\n",
       "  (3.542881488800049, 644)],\n",
       " 'An old, dusty book': [(3.892929792404175, 307), (3.418026924133301, 677)],\n",
       " 'Shadows on the wall': [(2.32399320602417, 318), (0.598351001739502, 677)],\n",
       " 'A reflection in the mirror': [(1.3880751132965088, 323)],\n",
       " 'The stroke of midnight': [(1.3781232833862305, 327)],\n",
       " 'A slice of life': [(2.5468249320983887, 348)],\n",
       " 'The weight of the world': [(2.9698398113250732, 366)],\n",
       " 'A fleeting moment': [(1.0081572532653809, 369)],\n",
       " 'The depth of the ocean': [(1.6675090789794922, 375)],\n",
       " 'The peak of the mountain': [(1.4525675773620605, 382)],\n",
       " 'Lost in the woods': [(1.5730648040771484, 388)],\n",
       " 'A path less traveled': [(3.4595181941986084, 406)],\n",
       " 'The edge of the universe': [(2.022538900375366, 415)],\n",
       " 'A ripple in the water': [(1.8934600353240967, 430)],\n",
       " 'The eye of the storm': [(3.203752279281616, 452)],\n",
       " 'A blanket of snow': [(1.181030035018921, 457)],\n",
       " 'The changing of the seasons': [(2.7266955375671387, 471)],\n",
       " 'The bloom of spring': [(1.5635828971862793, 477)],\n",
       " 'The harvest moon': [(1.345454454421997, 481)],\n",
       " 'A gust of wind': [(1.2480008602142334, 488)],\n",
       " 'The chirping of birds': [(1.0593044757843018, 494)],\n",
       " 'The roar of the lion': [(1.4042272567749023, 500)],\n",
       " 'Footprints in the sand': [(0.8084585666656494, 504)],\n",
       " 'The buzzing of bees': [(0.7502837181091309, 508)],\n",
       " \"A spider's web\": [(0.8481907844543457, 510)],\n",
       " 'The fluttering of wings': [(1.3688616752624512, 515)],\n",
       " 'A wildflower meadow': [(0.35830187797546387, 517)],\n",
       " 'The rustling of leaves': [(1.926650047302246, 529)],\n",
       " 'A rolling thunder': [(1.7834370136260986, 536)],\n",
       " 'The flash of lightning': [(1.2460699081420898, 540)],\n",
       " 'A starry night': [(0.336256742477417, 541)],\n",
       " 'The glow of the moon': [(1.0377635955810547, 544)],\n",
       " 'The passage of time': [(4.847116231918335, 588)],\n",
       " 'A crossroads': [(0.002266407012939453, 588)],\n",
       " 'The journey begins': [(2.490501642227173, 599)],\n",
       " 'A farewell': [(0.007651090621948242, 599)],\n",
       " 'The return home': [(3.8943028450012207, 622)],\n",
       " 'A new chapter': [(3.5880136489868164, 647)],\n",
       " 'The final page': [(1.6412651538848877, 652)],\n",
       " 'Lost and found': [(2.7210443019866943, 669)],\n",
       " 'A helping hand': [(3.9989802837371826, 33)],\n",
       " 'A word of advice': [(2.2427818775177, 52)],\n",
       " 'The quest for knowledge': [(1.641716480255127, 6)],\n",
       " 'A leap of faith': [(2.017422676086426, 15)],\n",
       " 'The bounds of friendship': [(2.081299066543579, 23)],\n",
       " 'A test of strength': [(1.897979497909546, 31)],\n",
       " 'The power of love': [(3.9702608585357666, 59)],\n",
       " 'The beauty of nature': [(3.6178927421569824, 82)],\n",
       " 'The art of war': [(2.7913730144500732, 99)],\n",
       " 'The science of mind': [(2.559819221496582, 116)],\n",
       " 'A touch of magic': [(1.8821289539337158, 125)],\n",
       " 'The thrill of adventure': [(1.3076503276824951, 129)],\n",
       " 'The mystery unfolds': [(1.2282612323760986, 134)],\n",
       " 'A twist of fate': [(1.5587267875671387, 139)],\n",
       " 'The circle of life': [(3.128016471862793, 162)],\n",
       " 'A bond unbroken': [(0.9297852516174316, 166)],\n",
       " 'The clash of titans': [(0.33926963806152344, 168)],\n",
       " 'A dance with destiny': [(1.3811137676239014, 173)],\n",
       " 'The echo of a dream': [(1.8457756042480469, 181)],\n",
       " 'A glimpse into the past': [(1.7611119747161865, 188)],\n",
       " 'The promise of tomorrow': [(1.174952745437622, 195)],\n",
       " 'A shadow of doubt': [(2.3011600971221924, 206)],\n",
       " 'The light of truth': [(3.156376600265503, 225)],\n",
       " 'A veil of secrecy': [(0.76365065574646, 227)],\n",
       " 'The key to the puzzle': [(1.5444209575653076, 231)],\n",
       " 'A bridge between worlds': [(2.716794729232788, 248)],\n",
       " 'The walls have ears': [(2.5059661865234375, 260)],\n",
       " 'A moment in time': [(4.893808126449585, 311)],\n",
       " 'The flow of the river': [(2.39959979057312, 322)],\n",
       " 'The heat of the moment': [(1.4744219779968262, 326)],\n",
       " 'A spark of genius': [(1.2051239013671875, 330)],\n",
       " 'The rhythm of life': [(0.31117939949035645, 331)],\n",
       " 'A balance of power': [(1.2332391738891602, 334)],\n",
       " 'The course of history': [(3.1150050163269043, 352)],\n",
       " 'A question of ethics': [(1.5413589477539062, 362)],\n",
       " 'The essence of beauty': [(0.5863423347473145, 363)],\n",
       " 'The heart of the matter': [(3.5993502140045166, 386)]}"
      ]
     },
     "execution_count": 7,
     "metadata": {},
     "output_type": "execute_result"
    }
   ],
   "source": [
    "generic"
   ]
  }
 ],
 "metadata": {
  "kernelspec": {
   "display_name": "base",
   "language": "python",
   "name": "python3"
  },
  "language_info": {
   "codemirror_mode": {
    "name": "ipython",
    "version": 3
   },
   "file_extension": ".py",
   "mimetype": "text/x-python",
   "name": "python",
   "nbconvert_exporter": "python",
   "pygments_lexer": "ipython3",
   "version": "3.11.3"
  }
 },
 "nbformat": 4,
 "nbformat_minor": 2
}
