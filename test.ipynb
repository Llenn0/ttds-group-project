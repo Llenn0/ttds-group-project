{
 "cells": [
  {
   "cell_type": "code",
   "execution_count": 1,
   "metadata": {},
   "outputs": [],
   "source": [
    "from KeywordSearch import loader, indexing"
   ]
  },
  {
   "cell_type": "code",
   "execution_count": 2,
   "metadata": {},
   "outputs": [],
   "source": [
    "#loader.process_first_k_books(k=500)"
   ]
  },
  {
   "cell_type": "code",
   "execution_count": 3,
   "metadata": {},
   "outputs": [],
   "source": [
    "all_tokens = loader.load_token_vocab(k=-1)"
   ]
  },
  {
   "cell_type": "code",
   "execution_count": 4,
   "metadata": {},
   "outputs": [
    {
     "name": "stdout",
     "output_type": "stream",
     "text": [
      "Finished building index for 1862 books...\r"
     ]
    }
   ],
   "source": [
    "bow_index, indexed_books = indexing.build_full_index(k=-1)"
   ]
  },
  {
   "cell_type": "code",
   "execution_count": null,
   "metadata": {},
   "outputs": [
    {
     "name": "stdout",
     "output_type": "stream",
     "text": [
      "415971552 366531768\n"
     ]
    }
   ],
   "source": [
    "from pympler import asizeof"
   ]
  },
  {
   "cell_type": "code",
   "execution_count": null,
   "metadata": {},
   "outputs": [
    {
     "data": {
      "text/plain": [
       "412098408"
      ]
     },
     "execution_count": 7,
     "metadata": {},
     "output_type": "execute_result"
    }
   ],
   "source": [
    "asizeof.asizeof(bow_index)"
   ]
  },
  {
   "cell_type": "code",
   "execution_count": 5,
   "metadata": {},
   "outputs": [],
   "source": [
    "book_path_template = loader.token_dir + \"PG%d_tokens.txt\"\n",
    "\n",
    "def read_tokens(PG_id: int):\n",
    "    with open(book_path_template %PG_id, encoding=\"UTF-8\", errors=\"ignore\") as f:\n",
    "        return loader.stemmer.stemWords(f.read().splitlines())"
   ]
  },
  {
   "cell_type": "code",
   "execution_count": 6,
   "metadata": {},
   "outputs": [],
   "source": [
    "from gensim.corpora import Dictionary\n",
    "from gensim.models import TfidfModel\n",
    "from gensim.similarities import MatrixSimilarity\n",
    "import concurrent.futures\n",
    "\n",
    "docs = []\n",
    "failed_jobs = 0\n",
    "complete_counter = 0\n",
    "with concurrent.futures.ThreadPoolExecutor() as pool:\n",
    "    jobs = {\n",
    "        pool.submit(\n",
    "            read_tokens, book_id)\n",
    "            : book_id for book_id in indexed_books\n",
    "        }\n",
    "    \n",
    "    for job in concurrent.futures.as_completed(jobs):\n",
    "        book_id = jobs[job]\n",
    "        try:\n",
    "            docs.append(job.result())\n",
    "        except Exception as e:\n",
    "            # raise e\n",
    "            failed_jobs.append(book_id)\n",
    "        complete_counter += 1\n",
    "        print(f\"Finished fetching tokens in {complete_counter} books...\", end=\"\\r\")\n",
    "        \n",
    "        print(f\"\\n{len(failed_jobs)}/{len(jobs)} token fetching jobs failed\")"
   ]
  },
  {
   "cell_type": "code",
   "execution_count": null,
   "metadata": {},
   "outputs": [],
   "source": [
    "dictionary = Dictionary(docs)\n",
    "corpus = [dictionary.doc2bow(doc) for doc in docs]\n",
    "del docs\n",
    "tfidf = TfidfModel(corpus, smartirs='ntc')\n",
    "tfidf_corpus = [tfidf[doc] for doc in corpus]\n",
    "del corpus, tfidf\n",
    "index = MatrixSimilarity(tfidf_corpus, num_features=len(dictionary))"
   ]
  },
  {
   "cell_type": "code",
   "execution_count": 4,
   "metadata": {},
   "outputs": [],
   "source": [
    "# import pickle\n",
    "# with open(\"all_tokens.pkl\", 'rb') as f:\n",
    "#     k, offset, _all_tokens = pickle.load(f)\n",
    "# with open(\"all_tokens.pkl\", \"wb\") as f:\n",
    "#     pickle.dump((k, offset, tuple(_all_tokens)), f)"
   ]
  },
  {
   "cell_type": "code",
   "execution_count": 7,
   "metadata": {},
   "outputs": [
    {
     "data": {
      "text/plain": [
       "(415963552, 22646504)"
      ]
     },
     "execution_count": 7,
     "metadata": {},
     "output_type": "execute_result"
    }
   ],
   "source": [
    "from pympler import asizeof\n",
    "asizeof.asizeof(bow_index), asizeof.asizeof(index)"
   ]
  },
  {
   "cell_type": "code",
   "execution_count": 9,
   "metadata": {},
   "outputs": [
    {
     "data": {
      "text/plain": [
       "396.6937561035156"
      ]
     },
     "execution_count": 9,
     "metadata": {},
     "output_type": "execute_result"
    }
   ],
   "source": [
    "415963552/1024/1024"
   ]
  },
  {
   "cell_type": "code",
   "execution_count": 6,
   "metadata": {},
   "outputs": [
    {
     "data": {
      "text/plain": [
       "396.7013854980469"
      ]
     },
     "execution_count": 6,
     "metadata": {},
     "output_type": "execute_result"
    }
   ],
   "source": [
    "415971552/1024/1024"
   ]
  },
  {
   "cell_type": "code",
   "execution_count": null,
   "metadata": {},
   "outputs": [],
   "source": [
    "\n",
    "mem_size_lst = asizeof.asizeof(all_tokens)\n",
    "mem_size_tup = asizeof.asizeof(tuple(all_tokens))\n",
    "mem_size_lst/1024/1024, mem_size_tup"
   ]
  },
  {
   "cell_type": "code",
   "execution_count": 12,
   "metadata": {},
   "outputs": [
    {
     "data": {
      "text/plain": [
       "3"
      ]
     },
     "execution_count": 12,
     "metadata": {},
     "output_type": "execute_result"
    }
   ],
   "source": [
    "from math import log2\n",
    "import numpy as np\n",
    "log2(len(all_tokens))\n",
    "x = np.array([1,2,3])\n",
    "x.shape[0]"
   ]
  },
  {
   "cell_type": "code",
   "execution_count": 3,
   "metadata": {},
   "outputs": [
    {
     "name": "stdout",
     "output_type": "stream",
     "text": [
      "Finished building index for 429 books...\n",
      "0/429 failures while building index\n"
     ]
    }
   ],
   "source": [
    "#loader.build_full_index()"
   ]
  },
  {
   "cell_type": "code",
   "execution_count": 4,
   "metadata": {},
   "outputs": [],
   "source": [
    "import pickle"
   ]
  },
  {
   "cell_type": "code",
   "execution_count": 5,
   "metadata": {},
   "outputs": [],
   "source": [
    "with open(\"index.pkl\", \"rb\") as f:\n",
    "    index = pickle.load(f)"
   ]
  },
  {
   "cell_type": "code",
   "execution_count": 6,
   "metadata": {},
   "outputs": [],
   "source": [
    "from pympler import asizeof\n",
    "mem_size = asizeof.asizeof(index)"
   ]
  },
  {
   "cell_type": "code",
   "execution_count": 7,
   "metadata": {},
   "outputs": [
    {
     "data": {
      "text/plain": [
       "319.3350143432617"
      ]
     },
     "execution_count": 7,
     "metadata": {},
     "output_type": "execute_result"
    }
   ],
   "source": [
    "mem_size/1024/1024"
   ]
  },
  {
   "cell_type": "code",
   "execution_count": 10,
   "metadata": {},
   "outputs": [
    {
     "data": {
      "text/plain": [
       "{80: array([10243, 10403], dtype=uint16),\n",
       " 79: array([25780], dtype=uint16),\n",
       " 48: array([ 6734,  7987, 16029, 21729, 24418, 36271, 39482, 42737, 50177,\n",
       "        50986, 53304,  7012, 12227, 40460, 40703, 40782, 45415, 65362,\n",
       "         8579, 10451, 11685, 58603, 60905, 22953], dtype=uint16),\n",
       " 87: array([ 9931, 11277, 12834, 20154, 26448, 29587, 42158, 45577, 49165,\n",
       "        58229, 59212, 61784, 17947, 23567, 52845, 53082, 53149, 53555,\n",
       "        53561, 58426, 14091, 23403, 25391, 26582, 13410, 15989, 43851],\n",
       "       dtype=uint16),\n",
       " 152: array([18960], dtype=uint16),\n",
       " 180: array([10541, 11974, 13667, 21596, 28334, 31832, 45235, 48950, 52794,\n",
       "        62321, 63351,   356, 23336, 29218, 60503, 60841, 60928, 61272,\n",
       "        61284, 22356, 32306, 34389, 35683, 27026, 29878, 62687],\n",
       "       dtype=uint16),\n",
       " 200: array([  508,   526,   565,   573,  1249, 17165, 29297, 60475, 10958],\n",
       "       dtype=uint16),\n",
       " 247: array([65472], dtype=uint16),\n",
       " 248: array([616], dtype=uint16),\n",
       " 323: array([3870, 3871, 4012, 4013], dtype=uint16)}"
      ]
     },
     "execution_count": 10,
     "metadata": {},
     "output_type": "execute_result"
    }
   ],
   "source": [
    "index[1]"
   ]
  },
  {
   "cell_type": "code",
   "execution_count": 20,
   "metadata": {},
   "outputs": [
    {
     "name": "stdout",
     "output_type": "stream",
     "text": [
      "137799\n",
      "137798\r"
     ]
    },
    {
     "data": {
      "text/plain": [
       "240188992"
      ]
     },
     "execution_count": 20,
     "metadata": {},
     "output_type": "execute_result"
    }
   ],
   "source": [
    "size = 0\n",
    "print(len(index))\n",
    "for i, token in enumerate(index):\n",
    "    for arr in token.values():\n",
    "        size += asizeof.asizeof(arr)\n",
    "    print(i, end='\\r')\n",
    "size"
   ]
  },
  {
   "cell_type": "code",
   "execution_count": 21,
   "metadata": {},
   "outputs": [
    {
     "data": {
      "text/plain": [
       "229.06207275390625"
      ]
     },
     "execution_count": 21,
     "metadata": {},
     "output_type": "execute_result"
    }
   ],
   "source": [
    "size/1024/1024"
   ]
  }
 ],
 "metadata": {
  "kernelspec": {
   "display_name": "base",
   "language": "python",
   "name": "python3"
  },
  "language_info": {
   "codemirror_mode": {
    "name": "ipython",
    "version": 3
   },
   "file_extension": ".py",
   "mimetype": "text/x-python",
   "name": "python",
   "nbconvert_exporter": "python",
   "pygments_lexer": "ipython3",
   "version": "3.11.3"
  }
 },
 "nbformat": 4,
 "nbformat_minor": 2
}
