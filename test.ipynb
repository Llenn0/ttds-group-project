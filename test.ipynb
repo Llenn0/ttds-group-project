{
 "cells": [
  {
   "cell_type": "code",
   "execution_count": 1,
   "metadata": {},
   "outputs": [
    {
     "name": "stdout",
     "output_type": "stream",
     "text": [
      "Please ignore the syntax warnings as small integers in CPython are singletons\n",
      "Using `is` instead of `=` for comparison in performance-critical code is acceptable\n",
      "Downloading stopwords...\n"
     ]
    },
    {
     "name": "stderr",
     "output_type": "stream",
     "text": [
      "[nltk_data] Downloading package stopwords to\n",
      "[nltk_data]     C:\\Users\\10022\\AppData\\Roaming\\nltk_data...\n",
      "[nltk_data]   Package stopwords is already up-to-date!\n"
     ]
    },
    {
     "name": "stdout",
     "output_type": "stream",
     "text": [
      "All languages: ['afrikaans', 'arabic', 'breton', 'bulgarian', 'catalan', 'chinese', 'czech', 'danish', 'dutch', 'english', 'esperanto', 'estonian', 'finnish', 'french', 'galician', 'german', 'greek', 'hebrew', 'hungarian', 'icelandic', 'interlingua ', 'inuktitut', 'irish', 'italian', 'japanese', 'korean', 'latin', 'lithuanian', 'maori', 'norwegian', 'occitan ', 'persian', 'polish', 'portuguese', 'romanian', 'russian', 'sanskrit', 'serbian', 'slovenian', 'spanish', 'swedish', 'tagalog', 'telugu', 'tibetan', 'welsh', 'western frisian', 'yiddish']\n"
     ]
    }
   ],
   "source": [
    "%load_ext line_profiler\n",
    "import gc\n",
    "import concurrent.futures\n",
    "from typing import Iterable\n",
    "\n",
    "import numpy as np\n",
    "\n",
    "from KeywordSearch import loader, indexing, utils, kwsearch, cloud_index\n",
    "from KeywordSearch.loader import stemmer, stopwords_set\n",
    "from KeywordSearch.kwsearch import token_index_dict, lookup_table"
   ]
  },
  {
   "cell_type": "code",
   "execution_count": 2,
   "metadata": {},
   "outputs": [],
   "source": [
    "from google.cloud import firestore\n",
    "from google.cloud.firestore_v1.field_path import FieldPath\n",
    "db = firestore.Client(project=\"moonlit-oven-412316\")\n",
    "index_api = db.collection(\"index\")\n",
    "c = cloud_index.CloudIndex(index_api)"
   ]
  },
  {
   "cell_type": "code",
   "execution_count": 6,
   "metadata": {},
   "outputs": [
    {
     "name": "stdout",
     "output_type": "stream",
     "text": [
      "['upon', 'paper', 'attach', 'narrat']\n"
     ]
    }
   ],
   "source": [
    "docIds = kwsearch.bool_search(\"Upon a paper attached to the Narrative\", c, [\"english\"], [], debug=True)\n",
    "\n",
    "res_json = {\"books\": [{\"id\": \"PG\" + str(docId), \"title\": loader.metadata[docId][2], \n",
    "                        \"author\": loader.metadata[docId][3], \"subject\": \", \".join(loader.metadata[docId][1]), \n",
    "                        \"bookshelf\": \"bookshelf test\", \"language\": \", \".join(loader.metadata[docId][0])} \n",
    "                        for docId in docIds]}"
   ]
  },
  {
   "cell_type": "code",
   "execution_count": 7,
   "metadata": {},
   "outputs": [
    {
     "data": {
      "text/plain": [
       "{'books': [{'id': 'PG37174',\n",
       "   'title': 'In a Glass Darkly, v. 3/3',\n",
       "   'author': 'Le Fanu, Joseph Sheridan',\n",
       "   'subject': '',\n",
       "   'bookshelf': 'bookshelf test',\n",
       "   'language': 'english'},\n",
       "  {'id': 'PG10007',\n",
       "   'title': 'Carmilla',\n",
       "   'author': 'Le Fanu, Joseph Sheridan',\n",
       "   'subject': '',\n",
       "   'bookshelf': 'bookshelf test',\n",
       "   'language': 'english'}]}"
      ]
     },
     "execution_count": 7,
     "metadata": {},
     "output_type": "execute_result"
    }
   ],
   "source": [
    "res_json"
   ]
  },
  {
   "cell_type": "code",
   "execution_count": 5,
   "metadata": {},
   "outputs": [
    {
     "data": {
      "text/plain": [
       "{10007, 37174}"
      ]
     },
     "execution_count": 5,
     "metadata": {},
     "output_type": "execute_result"
    }
   ],
   "source": [
    "docIds"
   ]
  },
  {
   "cell_type": "code",
   "execution_count": 3,
   "metadata": {},
   "outputs": [],
   "source": [
    "#index = loader.load_merged_index(max_workers=8, dummy=False)"
   ]
  },
  {
   "cell_type": "code",
   "execution_count": 4,
   "metadata": {},
   "outputs": [],
   "source": [
    "phrase_query = [w for w in \"Upon a paper attached to the Narrative\".casefold().split(' ') if w not in loader.stopwords_set]\n",
    "# kwsearch.phrase_search(phrase_query, index, True)"
   ]
  },
  {
   "cell_type": "code",
   "execution_count": 5,
   "metadata": {},
   "outputs": [],
   "source": [
    "# utils.construct_bool_table(index, loader.all_tokens, loader.processed_books)"
   ]
  },
  {
   "cell_type": "code",
   "execution_count": 10,
   "metadata": {},
   "outputs": [],
   "source": [
    "import scipy.sparse\n",
    "m = scipy.sparse.dok_array((5,5), dtype=np.bool_)"
   ]
  },
  {
   "cell_type": "code",
   "execution_count": 11,
   "metadata": {},
   "outputs": [],
   "source": [
    "m[1,2]=True"
   ]
  },
  {
   "cell_type": "code",
   "execution_count": 12,
   "metadata": {},
   "outputs": [
    {
     "data": {
      "text/plain": [
       "<5x5 sparse array of type '<class 'numpy.bool_'>'\n",
       "\twith 1 stored elements in Dictionary Of Keys format>"
      ]
     },
     "execution_count": 12,
     "metadata": {},
     "output_type": "execute_result"
    }
   ],
   "source": [
    "m"
   ]
  },
  {
   "cell_type": "code",
   "execution_count": 14,
   "metadata": {},
   "outputs": [],
   "source": [
    "del m[1,2]"
   ]
  },
  {
   "cell_type": "code",
   "execution_count": 15,
   "metadata": {},
   "outputs": [
    {
     "data": {
      "text/plain": [
       "<5x5 sparse array of type '<class 'numpy.bool_'>'\n",
       "\twith 0 stored elements in Dictionary Of Keys format>"
      ]
     },
     "execution_count": 15,
     "metadata": {},
     "output_type": "execute_result"
    }
   ],
   "source": [
    "m"
   ]
  },
  {
   "cell_type": "code",
   "execution_count": 7,
   "metadata": {},
   "outputs": [
    {
     "name": "stderr",
     "output_type": "stream",
     "text": [
      "c:\\Users\\10022\\anaconda3\\Lib\\site-packages\\google\\cloud\\firestore_v1\\base_collection.py:295: UserWarning: Detected filter using positional arguments. Prefer using the 'filter' keyword argument instead.\n",
      "  return query.where(field_path, op_string, value)\n"
     ]
    },
    {
     "name": "stdout",
     "output_type": "stream",
     "text": [
      "Timer unit: 1e-07 s\n",
      "\n",
      "Total time: 6.34344 s\n",
      "File: C:\\Users\\10022\\AppData\\Local\\Temp\\ipykernel_16080\\2214331718.py\n",
      "Function: phrase_search_cloud at line 1\n",
      "\n",
      "Line #      Hits         Time  Per Hit   % Time  Line Contents\n",
      "==============================================================\n",
      "     1                                           def phrase_search_cloud(words: list[str], index: Iterable[dict] | cloud_index.CloudIndex, max_dist: int=1, debug: bool=False):\n",
      "     2         1          4.0      4.0      0.0      search_result = []\n",
      "     3         1          3.0      3.0      0.0      if debug:\n",
      "     4                                                   print(stemmer.stemWords(words))\n",
      "     5         1          6.0      6.0      0.0      word_ids = (token_index_dict[stemmer.stemWord(word)] for word in words)\n",
      "     6         1        345.0    345.0      0.0      word_ids = tuple({word_id for word_id in word_ids if word_id})\n",
      "     7         1          5.0      5.0      0.0      all_ids = list(word_ids)\n",
      "     8         1       4531.0   4531.0      0.0      intersection = lookup_table[all_ids.pop(), :].indices\n",
      "     9         4         26.0      6.5      0.0      for token_id in all_ids:\n",
      "    10         3      63597.0  21199.0      0.1          intersection = np.intersect1d(intersection, lookup_table[token_id, :].indices, assume_unique=True)\n",
      "    11         1         52.0     52.0      0.0      index.preallocate(intersection)\n",
      "    12         1   59585402.0    6e+07     93.9      index_entries = index[word_ids]\n",
      "    13                                           \n",
      "    14     24124      59435.0      2.5      0.1      for docID in intersection:\n",
      "    15     24123     241326.0     10.0      0.4          occurs = (entry[docID] for entry in index_entries) # use generator to avoid wasting time on non-matches\n",
      "    16     24123     380763.0     15.8      0.6          first = next(occurs)\n",
      "    17     24123     354668.0     14.7      0.6          second = next(occurs)\n",
      "    18     24123    1287375.0     53.4      2.0          i = np.searchsorted(first, second, side=\"left\")\n",
      "    19     24123     408831.0     16.9      0.6          i[i==0] = 1\n",
      "    20     24123     817200.0     33.9      1.3          matches: np.ndarray = second[(second - first[i-1]) <= max_dist]\n",
      "    21     24123      43072.0      1.8      0.1          del first, second\n",
      "    22                                           \n",
      "    23     24123      70739.0      2.9      0.1          if matches.shape[0]:\n",
      "    24       839      16854.0     20.1      0.0              for entry in occurs:\n",
      "    25       839      36275.0     43.2      0.1                  i = np.searchsorted(matches, entry, side=\"right\")\n",
      "    26       839      13420.0     16.0      0.0                  i[i==0] = 1\n",
      "    27       839      25532.0     30.4      0.0                  matches = entry[(entry - matches[i-1]) <= max_dist]\n",
      "    28       839      23187.0     27.6      0.0                  if not matches.any():\n",
      "    29       838       1709.0      2.0      0.0                      break\n",
      "    30                                                       else:\n",
      "    31                                                           search_result.append(docID)\n",
      "    32         1         16.0     16.0      0.0      return set(search_result)"
     ]
    }
   ],
   "source": [
    "phrase_query = [w for w in \"Upon a paper attached to the Narrative\".casefold().split(' ') if w not in loader.stopwords_set]\n",
    "%lprun -f phrase_search_cloud result = phrase_search_cloud(phrase_query, c, max_dist=3)\n",
    "c.gc()"
   ]
  },
  {
   "cell_type": "code",
   "execution_count": 9,
   "metadata": {},
   "outputs": [
    {
     "name": "stdout",
     "output_type": "stream",
     "text": [
      "Timer unit: 1e-07 s\n",
      "\n",
      "Total time: 0.371715 s\n",
      "File: C:\\Users\\10022\\AppData\\Local\\Temp\\ipykernel_16080\\2214331718.py\n",
      "Function: phrase_search_cloud at line 1\n",
      "\n",
      "Line #      Hits         Time  Per Hit   % Time  Line Contents\n",
      "==============================================================\n",
      "     1                                           def phrase_search_cloud(words: list[str], index: Iterable[dict] | cloud_index.CloudIndex, max_dist: int=1, debug: bool=False):\n",
      "     2         1          3.0      3.0      0.0      search_result = []\n",
      "     3         1          7.0      7.0      0.0      if debug:\n",
      "     4                                                   print(stemmer.stemWords(words))\n",
      "     5         1          6.0      6.0      0.0      word_ids = (token_index_dict[stemmer.stemWord(word)] for word in words)\n",
      "     6         1        166.0    166.0      0.0      word_ids = tuple({word_id for word_id in word_ids if word_id})\n",
      "     7         1          6.0      6.0      0.0      all_ids = list(word_ids)\n",
      "     8         1       3360.0   3360.0      0.1      intersection = lookup_table[all_ids.pop(), :].indices\n",
      "     9         4         30.0      7.5      0.0      for token_id in all_ids:\n",
      "    10         3      59283.0  19761.0      1.6          intersection = np.intersect1d(intersection, lookup_table[token_id, :].indices, assume_unique=True)\n",
      "    11         1         36.0     36.0      0.0      index.preallocate(intersection)\n",
      "    12         1        185.0    185.0      0.0      index_entries = index[word_ids]\n",
      "    13                                           \n",
      "    14     24124      58625.0      2.4      1.6      for docID in intersection:\n",
      "    15     24123     222171.0      9.2      6.0          occurs = (entry[docID] for entry in index_entries) # use generator to avoid wasting time on non-matches\n",
      "    16     24123     372028.0     15.4     10.0          first = next(occurs)\n",
      "    17     24123     344683.0     14.3      9.3          second = next(occurs)\n",
      "    18     24123    1253858.0     52.0     33.7          i = np.searchsorted(first, second, side=\"left\")\n",
      "    19     24123     387555.0     16.1     10.4          i[i==0] = 1\n",
      "    20     24123     788308.0     32.7     21.2          matches: np.ndarray = second[(second - first[i-1]) <= max_dist]\n",
      "    21     24123      42210.0      1.7      1.1          del first, second\n",
      "    22                                           \n",
      "    23     24123      69001.0      2.9      1.9          if matches.shape[0]:\n",
      "    24       839      16432.0     19.6      0.4              for entry in occurs:\n",
      "    25       839      35637.0     42.5      1.0                  i = np.searchsorted(matches, entry, side=\"right\")\n",
      "    26       839      13003.0     15.5      0.3                  i[i==0] = 1\n",
      "    27       839      28407.0     33.9      0.8                  matches = entry[(entry - matches[i-1]) <= max_dist]\n",
      "    28       839      20528.0     24.5      0.6                  if not matches.any():\n",
      "    29       838       1606.0      1.9      0.0                      break\n",
      "    30                                                       else:\n",
      "    31                                                           search_result.append(docID)\n",
      "    32         1         13.0     13.0      0.0      return set(search_result)"
     ]
    }
   ],
   "source": [
    "%lprun -f phrase_search_cloud result = phrase_search_cloud(phrase_query, c, max_dist=3)"
   ]
  },
  {
   "cell_type": "code",
   "execution_count": 18,
   "metadata": {},
   "outputs": [],
   "source": [
    "f1 = tmp[0]\n",
    "s1 = tmp[1]"
   ]
  },
  {
   "cell_type": "code",
   "execution_count": 22,
   "metadata": {},
   "outputs": [
    {
     "data": {
      "text/plain": [
       "array([   63,   225,   553,   625,   689,  1291,  1328,  1470,  1473,\n",
       "        1640,  1792,  1983,  2282,  2346,  2709,  2778,  2813,  2942,\n",
       "        3018,  3047,  3407,  3460,  3464,  3532,  3629,  4193,  4235,\n",
       "        4484,  4491,  5238,  5275,  5837,  5867,  6519,  6550,  6784,\n",
       "        6871,  7267,  7423,  7947,  7965,  8249,  8276,  8776,  8949,\n",
       "        9048,  9194,  9558,  9688,  9896,  9958, 10021, 10390, 10721,\n",
       "       11169, 11192, 11226, 11345, 11353, 11514, 11548, 11632, 11909,\n",
       "       12125, 12263, 12347, 12369, 12726, 12766], dtype=uint64)"
      ]
     },
     "execution_count": 22,
     "metadata": {},
     "output_type": "execute_result"
    }
   ],
   "source": [
    "s1"
   ]
  },
  {
   "cell_type": "code",
   "execution_count": 42,
   "metadata": {},
   "outputs": [
    {
     "data": {
      "text/plain": [
       "array([1, 1, 3], dtype=int64)"
      ]
     },
     "execution_count": 42,
     "metadata": {},
     "output_type": "execute_result"
    }
   ],
   "source": [
    "np.searchsorted([1,2,5,7], [3,4,9])-1"
   ]
  },
  {
   "cell_type": "code",
   "execution_count": 38,
   "metadata": {},
   "outputs": [
    {
     "data": {
      "text/plain": [
       "array([ True, False, False, False, False,  True, False, False, False,\n",
       "       False, False, False, False, False, False, False, False, False,\n",
       "       False, False, False, False, False, False, False, False, False,\n",
       "       False, False, False, False, False, False, False, False, False,\n",
       "       False, False, False, False, False, False, False, False, False,\n",
       "       False, False, False, False, False, False, False, False, False,\n",
       "       False, False, False, False, False, False, False, False, False,\n",
       "       False, False, False, False, False, False])"
      ]
     },
     "execution_count": 38,
     "metadata": {},
     "output_type": "execute_result"
    }
   ],
   "source": [
    "f1[np.searchsorted(f1, s1)]-1 == s1"
   ]
  },
  {
   "cell_type": "code",
   "execution_count": 11,
   "metadata": {},
   "outputs": [],
   "source": [
    "di = index_api.document(\"14071817\").get().to_dict()"
   ]
  },
  {
   "cell_type": "code",
   "execution_count": 6,
   "metadata": {},
   "outputs": [],
   "source": [
    "d0 = index_api.document(\"14071817_0\").get().to_dict()"
   ]
  },
  {
   "cell_type": "code",
   "execution_count": 9,
   "metadata": {},
   "outputs": [],
   "source": [
    "d1 = index_api.document(\"14071817_1\").get().to_dict()"
   ]
  },
  {
   "cell_type": "code",
   "execution_count": 10,
   "metadata": {},
   "outputs": [
    {
     "data": {
      "text/plain": [
       "True"
      ]
     },
     "execution_count": 10,
     "metadata": {},
     "output_type": "execute_result"
    }
   ],
   "source": [
    "3456 in d1['h']"
   ]
  },
  {
   "cell_type": "code",
   "execution_count": 14,
   "metadata": {},
   "outputs": [],
   "source": [
    "cc = c[14071817]"
   ]
  },
  {
   "cell_type": "code",
   "execution_count": 15,
   "metadata": {},
   "outputs": [
    {
     "data": {
      "text/plain": [
       "{2: 0, 12755: 1, 28538: 2, 41750: 3, 54910: 4, 71090: 5}"
      ]
     },
     "execution_count": 15,
     "metadata": {},
     "output_type": "execute_result"
    }
   ],
   "source": [
    "cc.known_keys"
   ]
  },
  {
   "cell_type": "code",
   "execution_count": 13,
   "metadata": {},
   "outputs": [
    {
     "data": {
      "text/plain": [
       "2"
      ]
     },
     "execution_count": 13,
     "metadata": {},
     "output_type": "execute_result"
    }
   ],
   "source": [
    "np.searchsorted(di['h'], 3456)"
   ]
  },
  {
   "cell_type": "code",
   "execution_count": 12,
   "metadata": {},
   "outputs": [
    {
     "data": {
      "text/plain": [
       "[1,\n",
       " 1675,\n",
       " 3498,\n",
       " 5160,\n",
       " 6942,\n",
       " 9334,\n",
       " 11692,\n",
       " 13960,\n",
       " 16288,\n",
       " 18997,\n",
       " 21652,\n",
       " 24896,\n",
       " 28148,\n",
       " 31099,\n",
       " 33953,\n",
       " 36156,\n",
       " 38656,\n",
       " 40654,\n",
       " 42661,\n",
       " 44851,\n",
       " 47212,\n",
       " 49605,\n",
       " 52177,\n",
       " 54772,\n",
       " 57241,\n",
       " 59752,\n",
       " 62890,\n",
       " 66415,\n",
       " 69490,\n",
       " 72106]"
      ]
     },
     "execution_count": 12,
     "metadata": {},
     "output_type": "execute_result"
    }
   ],
   "source": [
    "di['h']"
   ]
  },
  {
   "cell_type": "code",
   "execution_count": 17,
   "metadata": {},
   "outputs": [
    {
     "data": {
      "text/plain": [
       "<KeywordSearch.cloud_index.CloudDoc at 0x25084b37c90>"
      ]
     },
     "execution_count": 17,
     "metadata": {},
     "output_type": "execute_result"
    }
   ],
   "source": [
    "c[14071817]."
   ]
  },
  {
   "cell_type": "code",
   "execution_count": 8,
   "metadata": {},
   "outputs": [
    {
     "data": {
      "text/plain": [
       "True"
      ]
     },
     "execution_count": 8,
     "metadata": {},
     "output_type": "execute_result"
    }
   ],
   "source": [
    "kwsearch.lookup_table[14071817, 3456]"
   ]
  },
  {
   "cell_type": "code",
   "execution_count": 2,
   "metadata": {},
   "outputs": [],
   "source": [
    "import json\n",
    "\n",
    "import numpy as np\n",
    "from tqdm.notebook import tqdm\n",
    "\n",
    "with open(\"index_json/2945_merged.json\", 'r') as f:\n",
    "    x = json.load(f)"
   ]
  },
  {
   "cell_type": "code",
   "execution_count": 10,
   "metadata": {},
   "outputs": [
    {
     "data": {
      "application/vnd.jupyter.widget-view+json": {
       "model_id": "a827c46ac1c14562abbe370c6ffa901e",
       "version_major": 2,
       "version_minor": 0
      },
      "text/plain": [
       "  0%|          | 0/5000 [00:00<?, ?it/s]"
      ]
     },
     "metadata": {},
     "output_type": "display_data"
    }
   ],
   "source": [
    "size = [len(json.dumps(token_dict, skipkeys=True, ensure_ascii=True, check_circular=False, indent=None,\n",
    "                separators=(',', ':'))) for token_dict in tqdm(x, total=len(x))]"
   ]
  },
  {
   "cell_type": "code",
   "execution_count": 12,
   "metadata": {},
   "outputs": [
    {
     "data": {
      "text/plain": [
       "47.34448719024658"
      ]
     },
     "execution_count": 12,
     "metadata": {},
     "output_type": "execute_result"
    }
   ],
   "source": [
    "max(size) / 1024 / 1024"
   ]
  },
  {
   "cell_type": "code",
   "execution_count": 13,
   "metadata": {},
   "outputs": [
    {
     "data": {
      "text/plain": [
       "17"
      ]
     },
     "execution_count": 13,
     "metadata": {},
     "output_type": "execute_result"
    }
   ],
   "source": [
    "np.argmax(size)"
   ]
  },
  {
   "cell_type": "code",
   "execution_count": 16,
   "metadata": {},
   "outputs": [
    {
     "data": {
      "text/plain": [
       "'would'"
      ]
     },
     "execution_count": 16,
     "metadata": {},
     "output_type": "execute_result"
    }
   ],
   "source": [
    "loader.all_tokens[2945*5000 + 17]"
   ]
  },
  {
   "cell_type": "code",
   "execution_count": 42,
   "metadata": {},
   "outputs": [
    {
     "data": {
      "text/plain": [
       "14725017"
      ]
     },
     "execution_count": 42,
     "metadata": {},
     "output_type": "execute_result"
    }
   ],
   "source": [
    "2945*5000 + 17"
   ]
  },
  {
   "cell_type": "code",
   "execution_count": 34,
   "metadata": {},
   "outputs": [],
   "source": [
    "z = json.dumps(x[12], skipkeys=True, ensure_ascii=True, check_circular=False, indent=None,\n",
    "                separators=(',', ':'))"
   ]
  },
  {
   "cell_type": "code",
   "execution_count": 35,
   "metadata": {},
   "outputs": [
    {
     "name": "stdout",
     "output_type": "stream",
     "text": [
      "{\"44292\":[28893],\"44833\":[111501]}\n"
     ]
    }
   ],
   "source": [
    "print(z[:100])"
   ]
  },
  {
   "cell_type": "code",
   "execution_count": 24,
   "metadata": {},
   "outputs": [
    {
     "data": {
      "application/vnd.jupyter.widget-view+json": {
       "model_id": "31edc132e2f749f88bb0f2ce27dbb082",
       "version_major": 2,
       "version_minor": 0
      },
      "text/plain": [
       "  0%|          | 0/55748 [00:00<?, ?it/s]"
      ]
     },
     "metadata": {},
     "output_type": "display_data"
    }
   ],
   "source": [
    "subsize = [len(json.dumps(token_dict, skipkeys=True, ensure_ascii=True, check_circular=False, indent=None,\n",
    "                separators=(',', ':'))) for token_dict in tqdm(x[17].values(), total=len(x[17]))]"
   ]
  },
  {
   "cell_type": "code",
   "execution_count": 3,
   "metadata": {},
   "outputs": [],
   "source": []
  },
  {
   "cell_type": "code",
   "execution_count": 4,
   "metadata": {},
   "outputs": [
    {
     "data": {
      "text/plain": [
       "<KeywordSearch.cloud_index.CloudDoc at 0x2d6d44b6290>"
      ]
     },
     "execution_count": 4,
     "metadata": {},
     "output_type": "execute_result"
    }
   ],
   "source": [
    "x = c[549513]\n",
    "x"
   ]
  },
  {
   "cell_type": "code",
   "execution_count": 5,
   "metadata": {},
   "outputs": [
    {
     "data": {
      "text/plain": [
       "array([    395,     455,    6574, ..., 1449061, 1449440, 1450588],\n",
       "      dtype=uint64)"
      ]
     },
     "execution_count": 5,
     "metadata": {},
     "output_type": "execute_result"
    }
   ],
   "source": [
    "x[31552]"
   ]
  },
  {
   "cell_type": "code",
   "execution_count": 8,
   "metadata": {},
   "outputs": [
    {
     "data": {
      "text/plain": [
       "True"
      ]
     },
     "execution_count": 8,
     "metadata": {},
     "output_type": "execute_result"
    }
   ],
   "source": [
    "31552 in x"
   ]
  },
  {
   "cell_type": "code",
   "execution_count": 52,
   "metadata": {},
   "outputs": [],
   "source": [
    "import json\n",
    "\n",
    "SIZE_LIMIT = (1024 * 512) - 2\n",
    "entry_sep = \",\\\"\"\n",
    "\n",
    "def dummy_upload(content: str, fname: str, dir_: str=\"test/\"):\n",
    "    with open(dir_ + fname, 'w', encoding=\"ascii\") as f:\n",
    "        f.write('{' + content + '}')\n",
    "\n",
    "def upload_firestore(content: str, fname: str):\n",
    "    # print(f\"Uploading {fname}\")\n",
    "    index_api.document(fname).set(json.loads(f\"{{{content}}}\"))\n",
    "\n",
    "def upload_token_json(token_dict: dict[str, list[int]], token_id: int):\n",
    "    content = json.dumps(token_dict, skipkeys=True, ensure_ascii=True, check_circular=False, indent=None, separators=(',', ':'))\n",
    "    slice_id = 1\n",
    "    slice_size = -1\n",
    "    current_slice = []\n",
    "    slices = content[2:-1].split(entry_sep) # {int_id}\":[{occurences}]\n",
    "    slice_lookup_table = dict()\n",
    "    slice_lookup_table[slice_id] = []\n",
    "    while slices:\n",
    "        next_size = len(slices[-1])\n",
    "        size_after_addition = slice_size + 2 + next_size\n",
    "        if size_after_addition > SIZE_LIMIT:\n",
    "            return upload_firestore('\"' + entry_sep.join(current_slice), f\"{token_id}_{slice_id}\")\n",
    "            slice_id += 1\n",
    "            slice_size = -1\n",
    "            current_slice = []\n",
    "            slice_lookup_table[slice_id] = []\n",
    "        else:\n",
    "            slice_size = size_after_addition\n",
    "            addition = slices.pop()\n",
    "            current_slice.append(addition)\n",
    "            slice_lookup_table[slice_id].append(int(addition.split('\"')[0]))\n",
    "    if current_slice:\n",
    "        upload_firestore('\"' + entry_sep.join(current_slice), f\"{token_id}_{slice_id}\")\n",
    "    lookup_str = json.dumps(slice_lookup_table, skipkeys=True, ensure_ascii=True, check_circular=False, indent=None, separators=(',', ':'))\n",
    "    upload_firestore(lookup_str[1:-1], f\"{token_id}\")\n"
   ]
  },
  {
   "cell_type": "code",
   "execution_count": 54,
   "metadata": {},
   "outputs": [],
   "source": [
    "dd = upload_token_json(x[17], 2945*5000 + 17)"
   ]
  },
  {
   "cell_type": "code",
   "execution_count": 55,
   "metadata": {},
   "outputs": [
    {
     "data": {
      "text/plain": [
       "dict_keys(['61537', '61536', '61535', '61534', '61533', '61530', '61529', '61526', '61523', '61522', '61521', '61520', '61519', '61518', '61517', '61515', '61514', '61513', '61512', '61511', '61510', '61509', '61507', '61506', '61505', '61504', '61502', '61499', '61498', '61497', '61496', '61495', '61494', '61492', '61487', '61486', '61484', '61483', '61482', '61481', '61478', '61477', '61476', '61475', '61474', '61473', '61471', '61470', '61469', '61468', '61467', '61466', '61464', '61462', '61459', '61457', '61456', '61455', '61454', '61453', '61451', '61450', '61449', '61447', '61445', '61444', '61443', '61442', '61441', '61440', '61439', '61437', '61436', '61435', '61434', '61433', '61432', '61430', '61429', '61428', '61427', '61426', '61423', '61422', '61421', '61420', '61419', '61417', '61416', '61414', '61412', '61410', '61407', '61406', '61405', '61402', '61401', '61400', '61398', '61397', '61396', '61395', '61394', '61393', '61391', '61389', '61388', '61386', '61385', '61384', '61382', '61380', '61378', '61375', '61372', '61371', '61370', '61369', '61368', '61367', '61366', '61365', '61364', '61363', '61362', '61360', '61359', '61358', '61353', '61352', '61350', '61349', '61348', '61347', '61346', '61345', '61344', '61342', '61341', '61340', '61338', '61336', '61335', '61334', '61333', '61331', '61330', '61329', '61325', '61321', '61320', '61319', '61317', '61316', '61314', '61313', '61312', '61310', '61308', '61307', '61306', '61303', '61301', '61300', '61298', '61297', '61295', '61294', '61291', '61290', '61288', '61286', '61285', '61284', '61281', '61280', '61279', '61277', '61276', '61273', '61272', '61271', '61269', '61268', '61267', '61265', '61264', '61263', '61262', '61261', '61260', '61259', '61257', '61255', '61253', '61251', '61250', '61249', '61247', '61246', '61245', '61243', '61242', '61241', '61240', '61236', '61235', '61234', '61233', '61232', '61231', '61230', '61229', '61228', '61226', '61225', '61224', '61223', '61221', '61220', '61219', '61216', '61215', '61213', '61212', '61211', '61210', '61208', '61207', '61205', '61204', '61203', '61201', '61200', '61198', '61196', '61195', '61194', '61193', '61188', '61187', '61186', '61185', '61184', '61183', '61182', '61180', '61178', '61177', '61176', '61174', '61173', '61172', '61171', '61170', '61169', '61168', '61167', '61166', '61165', '61163', '61161', '61159', '61158', '61157', '61156', '61155', '61154', '61153', '61152', '61151', '61150', '61149', '61148', '61147', '61146', '61144', '61143', '61141', '61139', '61138', '61137', '61136', '61135', '61132', '61131', '61130', '61128', '61127', '61126', '61125', '61124', '61123', '61122', '61121', '61120', '61119', '61118', '61116', '61115', '61114', '61113', '61112', '61111', '61110', '61109', '61107', '61106', '61105', '61104', '61102', '61100', '61097', '61096', '61094', '61093', '61092', '61090', '61089', '61087', '61086', '61085', '61084', '61083', '61082', '61081', '61080', '61079', '61078', '61077', '61076', '61074', '61072', '61071', '61070', '61069', '61068', '61064', '61063', '61062', '61061', '61057', '61056', '61055', '61053', '61052', '61051', '61050', '61048', '61045', '61044', '61043', '61041', '61040', '61037', '61034', '61030', '61029', '61028', '61027', '61026', '61025', '61023', '61021', '61019', '61017', '61016', '61015', '61014', '61013', '61012', '61009', '61008', '61007', '61006', '61005', '61004', '61003', '61001', '61000', '60997', '60996', '60995', '60992', '60990', '60989', '60985', '60984', '60983', '60981', '60980', '60979', '60978', '60977', '60976', '60975', '60974', '60973', '60972', '60970', '60969', '60968', '60967', '60966', '60965', '60964', '60963', '60962', '60961', '60960', '60959', '60957', '60956', '60955', '60951', '60950', '60949', '60948', '60947', '60946', '60944', '60943', '60941', '60940', '60939', '60938', '60937', '60936', '60935', '60934', '60933', '60929', '60928', '60926', '60923', '60922', '60921', '60919', '60917', '60915', '60914', '60913', '60912', '60911', '60908', '60907', '60906', '60904', '60903', '60901', '60900', '60899', '60898', '60897', '60895', '60894', '60893', '60890', '60889', '60887', '60886', '60885', '60883', '60882', '60881', '60880', '60875', '60874', '60872', '60871', '60870', '60867', '60866', '60862', '60861', '60860', '60859', '60858', '60857', '60856', '60855', '60854', '60853', '60852', '60848', '60846', '60844', '60842', '60840', '60839', '60838', '60837', '60834', '60833', '60832', '60831', '60830', '60829', '60826', '60825', '60823', '60822', '60820', '60819', '60816', '60815', '60814', '60813', '60811', '60809', '60808', '60807', '60805', '60804', '60802', '60799', '60797', '60796', '60795', '60794', '60793', '60792', '60791', '60790', '60786', '60783', '60782', '60781', '60780', '60777', '60776', '60775', '60774', '60773', '60771', '60770', '60767', '60766', '60765', '60764', '60762', '60761', '60760', '60759', '60758', '60757', '60756', '60755', '60751', '60750', '60749', '60747', '60745', '60744', '60743', '60742', '60741', '60740', '60737', '60736', '60735', '60734', '60733', '60732', '60731', '60730', '60729', '60727', '60726', '60725', '60721', '60719', '60718', '60717', '60716', '60713', '60710', '60708', '60705', '60704', '60700', '60698', '60697', '60696', '60695', '60694', '60693', '60692', '60691', '60688', '60687', '60686', '60685', '60683', '60682', '60681', '60677', '60676', '60671', '60670', '60669', '60668', '60664', '60663', '60662', '60661', '60660', '60659', '60658', '60655', '60654', '60653', '60652', '60651', '60650', '60649', '60646', '60645', '60640', '60638', '60637', '60636', '60633', '60632', '60631', '60630', '60629', '60627', '60625', '60624', '60621', '60620', '60619', '60617', '60615', '60614', '60613', '60612', '60611', '60608', '60607', '60606', '60605', '60604', '60602', '60601', '60600', '60599', '60598', '60597', '60596', '60595', '60593', '60592', '60591', '60590', '60587', '60585', '60584', '60582', '60581', '60580', '60576', '60575', '60574', '60573', '60572', '60570', '60568', '60567', '60566', '60565', '60564', '60563', '60562', '60561', '60560', '60559', '60558', '60557', '60556', '60555', '60554', '60553', '60552', '60550', '60548', '60547', '60546', '60545', '60542', '60541', '60540', '60538', '60537', '60536', '60535', '60531', '60530', '60529', '60528', '60527', '60526', '60525', '60524', '60523', '60521', '60520', '60519', '60518', '60517', '60515', '60514', '60513', '60512', '60511', '60509', '60507', '60506', '60505', '60504', '60503', '60496', '60495', '60493', '60492', '60491', '60490', '60489', '60488', '60487', '60486', '60485', '60484', '60483', '60482', '60481', '60479', '60477', '60476', '60475', '60474', '60473', '60472', '60471', '60470', '60469', '60468', '60467', '60466', '60465', '60463', '60462', '60461', '60460', '60458'])"
      ]
     },
     "execution_count": 55,
     "metadata": {},
     "output_type": "execute_result"
    }
   ],
   "source": [
    "dd.keys()"
   ]
  },
  {
   "cell_type": "code",
   "execution_count": 57,
   "metadata": {},
   "outputs": [
    {
     "data": {
      "text/plain": [
       "update_time {\n",
       "  seconds: 1709411077\n",
       "  nanos: 134687000\n",
       "}"
      ]
     },
     "execution_count": 57,
     "metadata": {},
     "output_type": "execute_result"
    }
   ],
   "source": [
    "index_api.document(\"TEST\").set({\"field1\":[\"[1,2,3]\", \"[2,3,4]\"], \"field2\":[1,2]})"
   ]
  },
  {
   "cell_type": "code",
   "execution_count": 58,
   "metadata": {},
   "outputs": [
    {
     "data": {
      "text/plain": [
       "{'field1': ['[1,2,3]', '[2,3,4]'], 'field2': [1, 2]}"
      ]
     },
     "execution_count": 58,
     "metadata": {},
     "output_type": "execute_result"
    }
   ],
   "source": [
    "index_api.document(\"TEST\").get().to_dict()"
   ]
  },
  {
   "cell_type": "code",
   "execution_count": 44,
   "metadata": {},
   "outputs": [
    {
     "data": {
      "text/plain": [
       "'{17}'"
      ]
     },
     "execution_count": 44,
     "metadata": {},
     "output_type": "execute_result"
    }
   ],
   "source": [
    "f\"{{{17}}}\""
   ]
  },
  {
   "cell_type": "code",
   "execution_count": 26,
   "metadata": {},
   "outputs": [
    {
     "data": {
      "text/plain": [
       "0.05648994445800781"
      ]
     },
     "execution_count": 26,
     "metadata": {},
     "output_type": "execute_result"
    }
   ],
   "source": [
    "max(subsize)/1024/1024"
   ]
  },
  {
   "cell_type": "code",
   "execution_count": 17,
   "metadata": {},
   "outputs": [],
   "source": [
    "from nltk.corpus import stopwords\n",
    "ss = set(stopwords.words('english'))"
   ]
  },
  {
   "cell_type": "code",
   "execution_count": 22,
   "metadata": {},
   "outputs": [
    {
     "data": {
      "text/plain": [
       "False"
      ]
     },
     "execution_count": 22,
     "metadata": {},
     "output_type": "execute_result"
    }
   ],
   "source": [
    "\"would\" in ss"
   ]
  },
  {
   "cell_type": "code",
   "execution_count": 7,
   "metadata": {},
   "outputs": [],
   "source": [
    "x = list(index_api.list_documents())"
   ]
  },
  {
   "cell_type": "code",
   "execution_count": 26,
   "metadata": {},
   "outputs": [],
   "source": [
    "y = index_api.document('121665').get()"
   ]
  },
  {
   "cell_type": "code",
   "execution_count": 27,
   "metadata": {},
   "outputs": [
    {
     "name": "stdout",
     "output_type": "stream",
     "text": [
      "2.14 µs ± 50.6 ns per loop (mean ± std. dev. of 7 runs, 100,000 loops each)\n"
     ]
    }
   ],
   "source": [
    "%timeit y.to_dict()[\"appears_in\"]"
   ]
  },
  {
   "cell_type": "code",
   "execution_count": 28,
   "metadata": {},
   "outputs": [
    {
     "name": "stdout",
     "output_type": "stream",
     "text": [
      "2.6 µs ± 69.8 ns per loop (mean ± std. dev. of 7 runs, 100,000 loops each)\n"
     ]
    }
   ],
   "source": [
    "%timeit y.get(\"appears_in\")"
   ]
  },
  {
   "cell_type": "code",
   "execution_count": 23,
   "metadata": {},
   "outputs": [],
   "source": [
    "y = index_api.document('121665').get()"
   ]
  },
  {
   "cell_type": "code",
   "execution_count": 72,
   "metadata": {},
   "outputs": [
    {
     "data": {
      "text/plain": [
       "'{\"docIds\":[{\"id\":\"PG40961\"},{\"id\":\"PG65538\"},{\"id\":\"PG51203\"},{\"id\":\"PG51205\"},{\"id\":\"PG51210\"},{\"id\":\"PG59404\"},{\"id\":\"PG49165\"},{\"id\":\"PG71692\"},{\"id\":\"PG34832\"},{\"id\":\"PG63506\"},{\"id\":\"PG63516\"},{\"id\":\"PG32805\"},{\"id\":\"PG38\"},{\"id\":\"PG20519\"},{\"id\":\"PG18492\"},{\"id\":\"PG71744\"},{\"id\":\"PG71754\"},{\"id\":\"PG69708\"},{\"id\":\"PG69709\"},{\"id\":\"PG69722\"},{\"id\":\"PG101\"},{\"id\":\"PG41062\"},{\"id\":\"PG51305\"},{\"id\":\"PG10347\"},{\"id\":\"PG32880\"},{\"id\":\"PG55415\"},{\"id\":\"PG32889\"},{\"id\":\"PG71806\"},{\"id\":\"PG69762\"},{\"id\":\"PG16515\"},{\"id\":\"PG71814\"},{\"id\":\"PG28813\"},{\"id\":\"PG71821\"},{\"id\":\"PG51344\"},{\"id\":\"PG26772\"},{\"id\":\"PG45208\"},{\"id\":\"PG22682\"},{\"id\":\"PG63645\"},{\"id\":\"PG34975\"},{\"id\":\"PG63648\"},{\"id\":\"PG51361\"},{\"id\":\"PG162\"},{\"id\":\"PG30885\"},{\"id\":\"PG57509\"},{\"id\":\"PG18602\"},{\"id\":\"PG28849\"},{\"id\":\"PG10419\"},{\"id\":\"PG30901\"},{\"id\":\"PG37060\"},{\"id\":\"PG51396\"},{\"id\":\"PG53448\"},{\"id\":\"PG61645\"},{\"id\":\"PG63696\"},{\"id\":\"PG28883\"},{\"id\":\"PG30932\"},{\"id\":\"PG39125\"},{\"id\":\"PG63703\"},{\"id\":\"PG59609\"},{\"id\":\"PG14556\"},{\"id\":\"PG22754\"},{\"id\":\"PG43235\"},{\"id\":\"PG65767\"},{\"id\":\"PG63721\"},{\"id\":\"PG71918\"},{\"id\":\"PG22767\"},{\"id\":\"PG240\"},{\"id\":\"PG4342\"},{\"id\":\"PG20727\"},{\"id\":\"PG4343\"},{\"id\":\"PG51449\"},{\"id\":\"PG35082\"},{\"id\":\"PG35083\"},{\"id\":\"PG61707\"},{\"id\":\"PG51478\"},{\"id\":\"PG18719\"},{\"id\":\"PG24865\"},{\"id\":\"PG69921\"},{\"id\":\"PG71973\"},{\"id\":\"PG45351\"},{\"id\":\"PG41259\"},{\"id\":\"PG69932\"},{\"id\":\"PG41261\"},{\"id\":\"PG63797\"},{\"id\":\"PG20796\"},{\"id\":\"PG26941\"},{\"id\":\"PG18753\"},{\"id\":\"PG63812\"},{\"id\":\"PG72015\"},{\"id\":\"PG18768\"},{\"id\":\"PG22867\"},{\"id\":\"PG63827\"},{\"id\":\"PG61794\"},{\"id\":\"PG51570\"},{\"id\":\"PG51571\"},{\"id\":\"PG49525\"},{\"id\":\"PG31094\"},{\"id\":\"PG20856\"},{\"id\":\"PG20857\"},{\"id\":\"PG49531\"},{\"id\":\"PG70015\"},{\"id\":\"PG65931\"},{\"id\":\"PG55694\"},{\"id\":\"PG72078\"},{\"id\":\"PG24977\"},{\"id\":\"PG63890\"},{\"id\":\"PG51608\"},{\"id\":\"PG20898\"},{\"id\":\"PG61859\"},{\"id\":\"PG68008\"},{\"id\":\"PG45485\"},{\"id\":\"PG63917\"},{\"id\":\"PG2481\"},{\"id\":\"PG12733\"},{\"id\":\"PG25024\"},{\"id\":\"PG72131\"},{\"id\":\"PG25035\"},{\"id\":\"PG2509\"},{\"id\":\"PG29133\"},{\"id\":\"PG27089\"},{\"id\":\"PG33233\"},{\"id\":\"PG57816\"},{\"id\":\"PG25051\"},{\"id\":\"PG66014\"},{\"id\":\"PG480\"},{\"id\":\"PG66017\"},{\"id\":\"PG66021\"},{\"id\":\"PG61927\"},{\"id\":\"PG25067\"},{\"id\":\"PG68076\"},{\"id\":\"PG20988\"},{\"id\":\"PG72191\"},{\"id\":\"PG51712\"},{\"id\":\"PG514\"},{\"id\":\"PG31236\"},{\"id\":\"PG55815\"},{\"id\":\"PG29193\"},{\"id\":\"PG70160\"},{\"id\":\"PG29204\"},{\"id\":\"PG55830\"},{\"id\":\"PG16921\"},{\"id\":\"PG49693\"},{\"id\":\"PG542\"},{\"id\":\"PG51741\"},{\"id\":\"PG51745\"},{\"id\":\"PG72234\"},{\"id\":\"PG51755\"},{\"id\":\"PG70187\"},{\"id\":\"PG45613\"},{\"id\":\"PG31286\"},{\"id\":\"PG51767\"},{\"id\":\"PG29240\"},{\"id\":\"PG45627\"},{\"id\":\"PG45629\"},{\"id\":\"PG70212\"},{\"id\":\"PG27211\"},{\"id\":\"PG47696\"},{\"id\":\"PG70227\"},{\"id\":\"PG72277\"},{\"id\":\"PG31327\"},{\"id\":\"PG70239\"},{\"id\":\"PG21092\"},{\"id\":\"PG51814\"},{\"id\":\"PG45680\"},{\"id\":\"PG51824\"},{\"id\":\"PG49779\"},{\"id\":\"PG66163\"},{\"id\":\"PG60024\"},{\"id\":\"PG23162\"},{\"id\":\"PG31355\"},{\"id\":\"PG31356\"},{\"id\":\"PG23164\"},{\"id\":\"PG51836\"},{\"id\":\"PG55933\"},{\"id\":\"PG51844\"},{\"id\":\"PG17029\"},{\"id\":\"PG51854\"},{\"id\":\"PG51855\"},{\"id\":\"PG39572\"},{\"id\":\"PG51866\"},{\"id\":\"PG51868\"},{\"id\":\"PG55977\"},{\"id\":\"PG58030\"},{\"id\":\"PG47793\"},{\"id\":\"PG41651\"},{\"id\":\"PG31426\"},{\"id\":\"PG66244\"},{\"id\":\"PG41671\"},{\"id\":\"PG19145\"},{\"id\":\"PG45776\"},{\"id\":\"PG72402\"},{\"id\":\"PG66259\"},{\"id\":\"PG72403\"},{\"id\":\"PG58073\"},{\"id\":\"PG66283\"},{\"id\":\"PG72429\"},{\"id\":\"PG64238\"},{\"id\":\"PG62191\"},{\"id\":\"PG68335\"},{\"id\":\"PG17138\"},{\"id\":\"PG41714\"},{\"id\":\"PG41715\"},{\"id\":\"PG41718\"},{\"id\":\"PG70391\"},{\"id\":\"PG27392\"},{\"id\":\"PG23301\"},{\"id\":\"PG31495\"},{\"id\":\"PG49931\"},{\"id\":\"PG37653\"},{\"id\":\"PG41753\"},{\"id\":\"PG66330\"},{\"id\":\"PG33567\"},{\"id\":\"PG23335\"},{\"id\":\"PG29488\"},{\"id\":\"PG817\"},{\"id\":\"PG27444\"},{\"id\":\"PG822\"},{\"id\":\"PG19258\"},{\"id\":\"PG62267\"},{\"id\":\"PG72522\"},{\"id\":\"PG39761\"},{\"id\":\"PG68441\"},{\"id\":\"PG66395\"},{\"id\":\"PG31581\"},{\"id\":\"PG66397\"},{\"id\":\"PG31588\"},{\"id\":\"PG31589\"},{\"id\":\"PG50022\"},{\"id\":\"PG64361\"},{\"id\":\"PG9070\"},{\"id\":\"PG31598\"},{\"id\":\"PG66417\"},{\"id\":\"PG35703\"},{\"id\":\"PG33660\"},{\"id\":\"PG58237\"},{\"id\":\"PG7038\"},{\"id\":\"PG52095\"},{\"id\":\"PG56190\"},{\"id\":\"PG68477\"},{\"id\":\"PG68478\"},{\"id\":\"PG27526\"},{\"id\":\"PG62349\"},{\"id\":\"PG50063\"},{\"id\":\"PG39826\"},{\"id\":\"PG45973\"},{\"id\":\"PG70549\"},{\"id\":\"PG66463\"},{\"id\":\"PG31648\"},{\"id\":\"PG70562\"},{\"id\":\"PG64420\"},{\"id\":\"PG31661\"},{\"id\":\"PG29614\"},{\"id\":\"PG31665\"},{\"id\":\"PG41905\"},{\"id\":\"PG29620\"},{\"id\":\"PG3008\"},{\"id\":\"PG70605\"},{\"id\":\"PG50138\"},{\"id\":\"PG44001\"},{\"id\":\"PG44002\"},{\"id\":\"PG44003\"},{\"id\":\"PG44004\"},{\"id\":\"PG44005\"},{\"id\":\"PG44006\"},{\"id\":\"PG44007\"},{\"id\":\"PG44008\"},{\"id\":\"PG17385\"},{\"id\":\"PG44009\"},{\"id\":\"PG44010\"},{\"id\":\"PG44011\"},{\"id\":\"PG44012\"},{\"id\":\"PG66540\"},{\"id\":\"PG23535\"},{\"id\":\"PG27631\"},{\"id\":\"PG68598\"},{\"id\":\"PG52228\"},{\"id\":\"PG21510\"},{\"id\":\"PG68615\"},{\"id\":\"PG31758\"},{\"id\":\"PG19471\"},{\"id\":\"PG66577\"},{\"id\":\"PG35858\"},{\"id\":\"PG7190\"},{\"id\":\"PG44061\"},{\"id\":\"PG52254\"},{\"id\":\"PG42015\"},{\"id\":\"PG50217\"},{\"id\":\"PG50225\"},{\"id\":\"PG29749\"},{\"id\":\"PG5176\"},{\"id\":\"PG50238\"},{\"id\":\"PG29762\"},{\"id\":\"PG68674\"},{\"id\":\"PG29768\"},{\"id\":\"PG50259\"},{\"id\":\"PG42069\"},{\"id\":\"PG54360\"},{\"id\":\"PG11357\"},{\"id\":\"PG48226\"},{\"id\":\"PG70760\"},{\"id\":\"PG62569\"},{\"id\":\"PG27756\"},{\"id\":\"PG68718\"},{\"id\":\"PG50290\"},{\"id\":\"PG68733\"},{\"id\":\"PG42111\"},{\"id\":\"PG25730\"},{\"id\":\"PG50309\"},{\"id\":\"PG25739\"},{\"id\":\"PG25741\"},{\"id\":\"PG54413\"},{\"id\":\"PG25743\"},{\"id\":\"PG50320\"},{\"id\":\"PG31892\"},{\"id\":\"PG70824\"},{\"id\":\"PG50353\"},{\"id\":\"PG64691\"},{\"id\":\"PG64694\"},{\"id\":\"PG64695\"},{\"id\":\"PG31929\"},{\"id\":\"PG19660\"},{\"id\":\"PG66768\"},{\"id\":\"PG29910\"},{\"id\":\"PG31962\"},{\"id\":\"PG29919\"},{\"id\":\"PG50400\"},{\"id\":\"PG50406\"},{\"id\":\"PG64746\"},{\"id\":\"PG31980\"},{\"id\":\"PG66798\"},{\"id\":\"PG31986\"},{\"id\":\"PG66802\"},{\"id\":\"PG11523\"},{\"id\":\"PG32004\"},{\"id\":\"PG64772\"},{\"id\":\"PG70918\"},{\"id\":\"PG50441\"},{\"id\":\"PG42250\"},{\"id\":\"PG19726\"},{\"id\":\"PG50449\"},{\"id\":\"PG54547\"},{\"id\":\"PG64790\"},{\"id\":\"PG66843\"},{\"id\":\"PG68892\"},{\"id\":\"PG46366\"},{\"id\":\"PG70944\"},{\"id\":\"PG32038\"},{\"id\":\"PG68904\"},{\"id\":\"PG70962\"},{\"id\":\"PG11583\"},{\"id\":\"PG44351\"},{\"id\":\"PG58688\"},{\"id\":\"PG64840\"},{\"id\":\"PG23882\"},{\"id\":\"PG60762\"},{\"id\":\"PG40284\"},{\"id\":\"PG54632\"},{\"id\":\"PG68968\"},{\"id\":\"PG64893\"},{\"id\":\"PG60799\"},{\"id\":\"PG32128\"},{\"id\":\"PG32131\"},{\"id\":\"PG71049\"},{\"id\":\"PG50571\"},{\"id\":\"PG62864\"},{\"id\":\"PG36258\"},{\"id\":\"PG48549\"},{\"id\":\"PG30124\"},{\"id\":\"PG60844\"},{\"id\":\"PG60846\"},{\"id\":\"PG69042\"},{\"id\":\"PG62900\"},{\"id\":\"PG64969\"},{\"id\":\"PG17866\"},{\"id\":\"PG50635\"},{\"id\":\"PG71124\"},{\"id\":\"PG60886\"},{\"id\":\"PG21988\"},{\"id\":\"PG48612\"},{\"id\":\"PG50661\"},{\"id\":\"PG50668\"},{\"id\":\"PG32243\"},{\"id\":\"PG32254\"},{\"id\":\"PG32256\"},{\"id\":\"PG60928\"},{\"id\":\"PG69124\"},{\"id\":\"PG32269\"},{\"id\":\"PG32270\"},{\"id\":\"PG34318\"},{\"id\":\"PG34319\"},{\"id\":\"PG13841\"},{\"id\":\"PG34320\"},{\"id\":\"PG34321\"},{\"id\":\"PG34323\"},{\"id\":\"PG60946\"},{\"id\":\"PG11800\"},{\"id\":\"PG65067\"},{\"id\":\"PG50736\"},{\"id\":\"PG60977\"},{\"id\":\"PG28215\"},{\"id\":\"PG26168\"},{\"id\":\"PG17985\"},{\"id\":\"PG38466\"},{\"id\":\"PG69190\"},{\"id\":\"PG63048\"},{\"id\":\"PG32331\"},{\"id\":\"PG63062\"},{\"id\":\"PG65113\"},{\"id\":\"PG34395\"},{\"id\":\"PG7773\"},{\"id\":\"PG32351\"},{\"id\":\"PG30305\"},{\"id\":\"PG32353\"},{\"id\":\"PG34403\"},{\"id\":\"PG32359\"},{\"id\":\"PG50796\"},{\"id\":\"PG52844\"},{\"id\":\"PG65141\"},{\"id\":\"PG52855\"},{\"id\":\"PG30329\"},{\"id\":\"PG50818\"},{\"id\":\"PG34441\"},{\"id\":\"PG69257\"},{\"id\":\"PG32395\"},{\"id\":\"PG61081\"},{\"id\":\"PG32413\"},{\"id\":\"PG54946\"},{\"id\":\"PG30378\"},{\"id\":\"PG32427\"},{\"id\":\"PG44717\"},{\"id\":\"PG20147\"},{\"id\":\"PG32440\"},{\"id\":\"PG30401\"},{\"id\":\"PG32473\"},{\"id\":\"PG55002\"},{\"id\":\"PG18139\"},{\"id\":\"PG22239\"},{\"id\":\"PG24290\"},{\"id\":\"PG67298\"},{\"id\":\"PG32485\"},{\"id\":\"PG16104\"},{\"id\":\"PG50923\"},{\"id\":\"PG69357\"},{\"id\":\"PG69358\"},{\"id\":\"PG32498\"},{\"id\":\"PG5875\"},{\"id\":\"PG20212\"},{\"id\":\"PG44786\"},{\"id\":\"PG34552\"},{\"id\":\"PG65282\"},{\"id\":\"PG57100\"},{\"id\":\"PG44813\"},{\"id\":\"PG50960\"},{\"id\":\"PG40721\"},{\"id\":\"PG69393\"},{\"id\":\"PG57111\"},{\"id\":\"PG34589\"},{\"id\":\"PG32542\"},{\"id\":\"PG34591\"},{\"id\":\"PG61213\"},{\"id\":\"PG50980\"},{\"id\":\"PG59172\"},{\"id\":\"PG61228\"},{\"id\":\"PG18224\"},{\"id\":\"PG32562\"},{\"id\":\"PG32564\"},{\"id\":\"PG22332\"},{\"id\":\"PG65343\"},{\"id\":\"PG22338\"},{\"id\":\"PG53059\"},{\"id\":\"PG30532\"},{\"id\":\"PG65347\"},{\"id\":\"PG22342\"},{\"id\":\"PG65348\"},{\"id\":\"PG28488\"},{\"id\":\"PG30539\"},{\"id\":\"PG32587\"},{\"id\":\"PG61263\"},{\"id\":\"PG48991\"},{\"id\":\"PG71521\"},{\"id\":\"PG32619\"},{\"id\":\"PG36719\"},{\"id\":\"PG24436\"},{\"id\":\"PG34682\"},{\"id\":\"PG51072\"},{\"id\":\"PG34689\"},{\"id\":\"PG46978\"},{\"id\":\"PG34691\"},{\"id\":\"PG61316\"},{\"id\":\"PG32652\"},{\"id\":\"PG53132\"},{\"id\":\"PG10127\"},{\"id\":\"PG8086\"},{\"id\":\"PG32663\"},{\"id\":\"PG65437\"},{\"id\":\"PG63394\"},{\"id\":\"PG61353\"},{\"id\":\"PG59314\"},{\"id\":\"PG51126\"},{\"id\":\"PG18361\"},{\"id\":\"PG1979\"},{\"id\":\"PG51136\"},{\"id\":\"PG65482\"},{\"id\":\"PG32717\"},{\"id\":\"PG53198\"},{\"id\":\"PG51170\"},{\"id\":\"PG59369\"},{\"id\":\"PG71659\"},{\"id\":\"PG63469\"},{\"id\":\"PG51184\"},{\"id\":\"PG32754\"},{\"id\":\"PG71666\"},{\"id\":\"PG51194\"},{\"id\":\"PG67580\"}]}\\n'"
      ]
     },
     "execution_count": 72,
     "metadata": {},
     "output_type": "execute_result"
    }
   ],
   "source": [
    "import requests\n",
    "requests.post(\"https://ttds-gutenberg-fvyohsgcaq-ez.a.run.app/boolean\", json={\"query\":\"fine AND (okay AND (good OR NOT great)) AND happy\"}).text"
   ]
  },
  {
   "cell_type": "code",
   "execution_count": 71,
   "metadata": {},
   "outputs": [
    {
     "data": {
      "text/plain": [
       "'{\"docIds\":[]}\\n'"
      ]
     },
     "execution_count": 71,
     "metadata": {},
     "output_type": "execute_result"
    }
   ],
   "source": [
    "requests.post(\"https://ttds-gutenberg-fvyohsgcaq-ez.a.run.app/boolean\", json={\"query\":\"Hi Hello How's it going?\"}).text"
   ]
  },
  {
   "cell_type": "code",
   "execution_count": 49,
   "metadata": {},
   "outputs": [],
   "source": [
    "index_api.document('1test').get().to_dict()"
   ]
  },
  {
   "cell_type": "code",
   "execution_count": 69,
   "metadata": {},
   "outputs": [],
   "source": [
    "c = cloud_index.CloudIndex(index_api)"
   ]
  },
  {
   "cell_type": "code",
   "execution_count": 70,
   "metadata": {},
   "outputs": [
    {
     "ename": "AttributeError",
     "evalue": "'NoneType' object has no attribute 'items'",
     "output_type": "error",
     "traceback": [
      "\u001b[1;31m---------------------------------------------------------------------------\u001b[0m",
      "\u001b[1;31mAttributeError\u001b[0m                            Traceback (most recent call last)",
      "Cell \u001b[1;32mIn[70], line 1\u001b[0m\n\u001b[1;32m----> 1\u001b[0m kwsearch\u001b[38;5;241m.\u001b[39mbool_search(\u001b[38;5;124m\"\u001b[39m\u001b[38;5;124mHi Hello How\u001b[39m\u001b[38;5;124m'\u001b[39m\u001b[38;5;124ms it going?\u001b[39m\u001b[38;5;124m\"\u001b[39m, c)\n",
      "File \u001b[1;32mc:\\Users\\10022\\Documents\\GitHub\\ttds-group-project\\KeywordSearch\\kwsearch.py:52\u001b[0m, in \u001b[0;36mbool_search\u001b[1;34m(query, index, debug)\u001b[0m\n\u001b[0;32m     50\u001b[0m query \u001b[38;5;241m=\u001b[39m unidecode(query)\n\u001b[0;32m     51\u001b[0m \u001b[38;5;28;01mif\u001b[39;00m regex_bool_op\u001b[38;5;241m.\u001b[39msearch(query) \u001b[38;5;129;01mis\u001b[39;00m \u001b[38;5;28;01mNone\u001b[39;00m:\n\u001b[1;32m---> 52\u001b[0m     \u001b[38;5;28;01mreturn\u001b[39;00m phrase_search(regex_tokenise\u001b[38;5;241m.\u001b[39mfindall(query\u001b[38;5;241m.\u001b[39mlower()), index, debug)\n\u001b[0;32m     53\u001b[0m \u001b[38;5;28;01melse\u001b[39;00m:\n\u001b[0;32m     54\u001b[0m     \u001b[38;5;28;01mreturn\u001b[39;00m _bool_search(query, debug)[\u001b[38;5;241m0\u001b[39m]\n",
      "File \u001b[1;32mc:\\Users\\10022\\Documents\\GitHub\\ttds-group-project\\KeywordSearch\\kwsearch.py:147\u001b[0m, in \u001b[0;36mphrase_search\u001b[1;34m(words, index, debug)\u001b[0m\n\u001b[0;32m    145\u001b[0m word_ids \u001b[38;5;241m=\u001b[39m (token_index_dict[stemmer\u001b[38;5;241m.\u001b[39mstemWord(word)] \u001b[38;5;28;01mfor\u001b[39;00m word \u001b[38;5;129;01min\u001b[39;00m words)\n\u001b[0;32m    146\u001b[0m word_ids \u001b[38;5;241m=\u001b[39m [word_id \u001b[38;5;28;01mfor\u001b[39;00m word_id \u001b[38;5;129;01min\u001b[39;00m word_ids \u001b[38;5;28;01mif\u001b[39;00m word_id]\n\u001b[1;32m--> 147\u001b[0m index_entries \u001b[38;5;241m=\u001b[39m [index[i] \u001b[38;5;28;01mfor\u001b[39;00m i \u001b[38;5;129;01min\u001b[39;00m word_ids]\n\u001b[0;32m    148\u001b[0m first \u001b[38;5;241m=\u001b[39m \u001b[38;5;28mlist\u001b[39m(\u001b[38;5;28mset\u001b[39m(word_ids))\n\u001b[0;32m    149\u001b[0m intersection \u001b[38;5;241m=\u001b[39m lookup_table[first\u001b[38;5;241m.\u001b[39mpop(), :]\u001b[38;5;241m.\u001b[39mindices\n",
      "File \u001b[1;32mc:\\Users\\10022\\Documents\\GitHub\\ttds-group-project\\KeywordSearch\\kwsearch.py:147\u001b[0m, in \u001b[0;36m<listcomp>\u001b[1;34m(.0)\u001b[0m\n\u001b[0;32m    145\u001b[0m word_ids \u001b[38;5;241m=\u001b[39m (token_index_dict[stemmer\u001b[38;5;241m.\u001b[39mstemWord(word)] \u001b[38;5;28;01mfor\u001b[39;00m word \u001b[38;5;129;01min\u001b[39;00m words)\n\u001b[0;32m    146\u001b[0m word_ids \u001b[38;5;241m=\u001b[39m [word_id \u001b[38;5;28;01mfor\u001b[39;00m word_id \u001b[38;5;129;01min\u001b[39;00m word_ids \u001b[38;5;28;01mif\u001b[39;00m word_id]\n\u001b[1;32m--> 147\u001b[0m index_entries \u001b[38;5;241m=\u001b[39m [index[i] \u001b[38;5;28;01mfor\u001b[39;00m i \u001b[38;5;129;01min\u001b[39;00m word_ids]\n\u001b[0;32m    148\u001b[0m first \u001b[38;5;241m=\u001b[39m \u001b[38;5;28mlist\u001b[39m(\u001b[38;5;28mset\u001b[39m(word_ids))\n\u001b[0;32m    149\u001b[0m intersection \u001b[38;5;241m=\u001b[39m lookup_table[first\u001b[38;5;241m.\u001b[39mpop(), :]\u001b[38;5;241m.\u001b[39mindices\n",
      "File \u001b[1;32mc:\\Users\\10022\\Documents\\GitHub\\ttds-group-project\\KeywordSearch\\cloud_index.py:14\u001b[0m, in \u001b[0;36mCloudIndex.__getitem__\u001b[1;34m(self, i)\u001b[0m\n\u001b[0;32m     13\u001b[0m \u001b[38;5;28;01mdef\u001b[39;00m \u001b[38;5;21m__getitem__\u001b[39m(\u001b[38;5;28mself\u001b[39m, i: \u001b[38;5;28mint\u001b[39m\u001b[38;5;241m|\u001b[39m\u001b[38;5;28mstr\u001b[39m):\n\u001b[1;32m---> 14\u001b[0m     \u001b[38;5;28;01mreturn\u001b[39;00m \u001b[38;5;28mself\u001b[39m\u001b[38;5;241m.\u001b[39mcache[i]\n",
      "File \u001b[1;32mc:\\Users\\10022\\Documents\\GitHub\\ttds-group-project\\KeywordSearch\\cloud_index.py:6\u001b[0m, in \u001b[0;36mCloudIndexDict.__missing__\u001b[1;34m(self, key)\u001b[0m\n\u001b[0;32m      5\u001b[0m \u001b[38;5;28;01mdef\u001b[39;00m \u001b[38;5;21m__missing__\u001b[39m(\u001b[38;5;28mself\u001b[39m, key):\n\u001b[1;32m----> 6\u001b[0m     \u001b[38;5;28mself\u001b[39m[key] \u001b[38;5;241m=\u001b[39m {\u001b[38;5;28mint\u001b[39m(k) : v \u001b[38;5;28;01mfor\u001b[39;00m k, v \u001b[38;5;129;01min\u001b[39;00m \u001b[38;5;28mself\u001b[39m\u001b[38;5;241m.\u001b[39mindex_api\u001b[38;5;241m.\u001b[39mdocument(\u001b[38;5;28mstr\u001b[39m(key))\u001b[38;5;241m.\u001b[39mget()\u001b[38;5;241m.\u001b[39mto_dict()\u001b[38;5;241m.\u001b[39mitems()}\n\u001b[0;32m      7\u001b[0m     \u001b[38;5;28;01mreturn\u001b[39;00m \u001b[38;5;28mself\u001b[39m[key]\n",
      "\u001b[1;31mAttributeError\u001b[0m: 'NoneType' object has no attribute 'items'"
     ]
    }
   ],
   "source": [
    "kwsearch.bool_search(\"Hi Hello How's it going?\", c)"
   ]
  },
  {
   "cell_type": "code",
   "execution_count": 25,
   "metadata": {},
   "outputs": [
    {
     "data": {
      "text/plain": [
       "'200: 315532 316317 316320 316322 316330 352116 352121 452587'"
      ]
     },
     "execution_count": 25,
     "metadata": {},
     "output_type": "execute_result"
    }
   ],
   "source": [
    "y.get(\"appears_in\")[0]"
   ]
  },
  {
   "cell_type": "code",
   "execution_count": 45,
   "metadata": {},
   "outputs": [],
   "source": [
    "class CloudIndexDict(dict):\n",
    "    def __init__(self, index_api):\n",
    "        self.index_api = index_api\n",
    "        super().__init__(self)\n",
    "    def __missing__(self, key):\n",
    "        doc = self.index_api.document(str(key)).get()\n",
    "        self[key] = {int(k) : v for k, v in doc.to_dict().items()}\n",
    "        return self[key]\n",
    "\n",
    "class CloudIndex:\n",
    "    def __init__(self, db) -> None:\n",
    "        self.index_api = db.collection(\"index\")\n",
    "        self.cache = CloudIndexDict(self.index_api)\n",
    "    def __getitem__(self, i: int|str):\n",
    "        return self.cache[i]\n",
    "\n",
    "c = CloudIndex(db)"
   ]
  },
  {
   "cell_type": "code",
   "execution_count": 47,
   "metadata": {},
   "outputs": [
    {
     "ename": "AttributeError",
     "evalue": "'NoneType' object has no attribute 'items'",
     "output_type": "error",
     "traceback": [
      "\u001b[1;31m---------------------------------------------------------------------------\u001b[0m",
      "\u001b[1;31mAttributeError\u001b[0m                            Traceback (most recent call last)",
      "Cell \u001b[1;32mIn[47], line 1\u001b[0m\n\u001b[1;32m----> 1\u001b[0m c[\u001b[38;5;124m\"\u001b[39m\u001b[38;5;124m1test\u001b[39m\u001b[38;5;124m\"\u001b[39m][\u001b[38;5;241m123\u001b[39m]\n",
      "Cell \u001b[1;32mIn[45], line 15\u001b[0m, in \u001b[0;36mCloudIndex.__getitem__\u001b[1;34m(self, i)\u001b[0m\n\u001b[0;32m     14\u001b[0m \u001b[38;5;28;01mdef\u001b[39;00m \u001b[38;5;21m__getitem__\u001b[39m(\u001b[38;5;28mself\u001b[39m, i: \u001b[38;5;28mint\u001b[39m\u001b[38;5;241m|\u001b[39m\u001b[38;5;28mstr\u001b[39m):\n\u001b[1;32m---> 15\u001b[0m     \u001b[38;5;28;01mreturn\u001b[39;00m \u001b[38;5;28mself\u001b[39m\u001b[38;5;241m.\u001b[39mcache[i]\n",
      "Cell \u001b[1;32mIn[45], line 7\u001b[0m, in \u001b[0;36mCloudIndexDict.__missing__\u001b[1;34m(self, key)\u001b[0m\n\u001b[0;32m      5\u001b[0m \u001b[38;5;28;01mdef\u001b[39;00m \u001b[38;5;21m__missing__\u001b[39m(\u001b[38;5;28mself\u001b[39m, key):\n\u001b[0;32m      6\u001b[0m     doc \u001b[38;5;241m=\u001b[39m \u001b[38;5;28mself\u001b[39m\u001b[38;5;241m.\u001b[39mindex_api\u001b[38;5;241m.\u001b[39mdocument(\u001b[38;5;28mstr\u001b[39m(key))\u001b[38;5;241m.\u001b[39mget()\n\u001b[1;32m----> 7\u001b[0m     \u001b[38;5;28mself\u001b[39m[key] \u001b[38;5;241m=\u001b[39m {\u001b[38;5;28mint\u001b[39m(k) : v \u001b[38;5;28;01mfor\u001b[39;00m k, v \u001b[38;5;129;01min\u001b[39;00m doc\u001b[38;5;241m.\u001b[39mto_dict()\u001b[38;5;241m.\u001b[39mitems()}\n\u001b[0;32m      8\u001b[0m     \u001b[38;5;28;01mreturn\u001b[39;00m \u001b[38;5;28mself\u001b[39m[key]\n",
      "\u001b[1;31mAttributeError\u001b[0m: 'NoneType' object has no attribute 'items'"
     ]
    }
   ],
   "source": [
    "c[\"1test\"][123]"
   ]
  },
  {
   "cell_type": "code",
   "execution_count": 40,
   "metadata": {},
   "outputs": [],
   "source": [
    "c.cache.clear()"
   ]
  },
  {
   "cell_type": "code",
   "execution_count": 41,
   "metadata": {},
   "outputs": [
    {
     "ename": "AttributeError",
     "evalue": "'NoneType' object has no attribute 'items'",
     "output_type": "error",
     "traceback": [
      "\u001b[1;31m---------------------------------------------------------------------------\u001b[0m",
      "\u001b[1;31mAttributeError\u001b[0m                            Traceback (most recent call last)",
      "Cell \u001b[1;32mIn[41], line 1\u001b[0m\n\u001b[1;32m----> 1\u001b[0m c[\u001b[38;5;124m\"\u001b[39m\u001b[38;5;124mtest\u001b[39m\u001b[38;5;124m\"\u001b[39m][\u001b[38;5;241m123\u001b[39m]\n",
      "Cell \u001b[1;32mIn[37], line 14\u001b[0m, in \u001b[0;36mCloudIndex.__getitem__\u001b[1;34m(self, i)\u001b[0m\n\u001b[0;32m     13\u001b[0m \u001b[38;5;28;01mdef\u001b[39;00m \u001b[38;5;21m__getitem__\u001b[39m(\u001b[38;5;28mself\u001b[39m, i: \u001b[38;5;28mint\u001b[39m\u001b[38;5;241m|\u001b[39m\u001b[38;5;28mstr\u001b[39m):\n\u001b[1;32m---> 14\u001b[0m     \u001b[38;5;28;01mreturn\u001b[39;00m \u001b[38;5;28mself\u001b[39m\u001b[38;5;241m.\u001b[39mcache[i]\n",
      "Cell \u001b[1;32mIn[37], line 6\u001b[0m, in \u001b[0;36mCloudIndexDict.__missing__\u001b[1;34m(self, key)\u001b[0m\n\u001b[0;32m      5\u001b[0m \u001b[38;5;28;01mdef\u001b[39;00m \u001b[38;5;21m__missing__\u001b[39m(\u001b[38;5;28mself\u001b[39m, key):\n\u001b[1;32m----> 6\u001b[0m     \u001b[38;5;28mself\u001b[39m[key] \u001b[38;5;241m=\u001b[39m {\u001b[38;5;28mint\u001b[39m(k) : v \u001b[38;5;28;01mfor\u001b[39;00m k, v \u001b[38;5;129;01min\u001b[39;00m \u001b[38;5;28mself\u001b[39m\u001b[38;5;241m.\u001b[39mindex_api\u001b[38;5;241m.\u001b[39mdocument(\u001b[38;5;28mstr\u001b[39m(key))\u001b[38;5;241m.\u001b[39mget()\u001b[38;5;241m.\u001b[39mto_dict()\u001b[38;5;241m.\u001b[39mitems()}\n\u001b[0;32m      7\u001b[0m     \u001b[38;5;28;01mreturn\u001b[39;00m \u001b[38;5;28mself\u001b[39m[key]\n",
      "\u001b[1;31mAttributeError\u001b[0m: 'NoneType' object has no attribute 'items'"
     ]
    }
   ],
   "source": [
    "c[\"test\"][123]"
   ]
  },
  {
   "cell_type": "code",
   "execution_count": 13,
   "metadata": {},
   "outputs": [],
   "source": [
    "import numpy as np\n",
    "from tqdm.notebook import trange"
   ]
  },
  {
   "cell_type": "code",
   "execution_count": 14,
   "metadata": {},
   "outputs": [
    {
     "data": {
      "application/vnd.jupyter.widget-view+json": {
       "model_id": "d3c28f345c4442b3a7a6a7bdcd0d43ec",
       "version_major": 2,
       "version_minor": 0
      },
      "text/plain": [
       "  0%|          | 0/14930836 [00:00<?, ?it/s]"
      ]
     },
     "metadata": {},
     "output_type": "display_data"
    }
   ],
   "source": [
    "length = np.array([kwsearch.lookup_table.getrow(i).indices.shape[0] for i in trange(kwsearch.lookup_table.shape[0])], dtype=np.uint32)"
   ]
  },
  {
   "cell_type": "code",
   "execution_count": 24,
   "metadata": {},
   "outputs": [],
   "source": [
    "import matplotlib.pyplot as plt"
   ]
  },
  {
   "cell_type": "code",
   "execution_count": 29,
   "metadata": {},
   "outputs": [
    {
     "data": {
      "image/png": "[encoded data removed]",
      "text/plain": [
       "<Figure size 640x480 with 1 Axes>"
      ]
     },
     "metadata": {},
     "output_type": "display_data"
    }
   ],
   "source": [
    "plt.plot(np.arange(len(length)), length)\n",
    "plt.xlabel(\"Token ID\")\n",
    "plt.ylabel(\"Number of Documents\")\n",
    "plt.show()"
   ]
  },
  {
   "cell_type": "code",
   "execution_count": 52,
   "metadata": {},
   "outputs": [
    {
     "data": {
      "image/png": "[encoded data removed]",
      "text/plain": [
       "<Figure size 640x480 with 1 Axes>"
      ]
     },
     "metadata": {},
     "output_type": "display_data"
    }
   ],
   "source": [
    "plt.cla()\n",
    "n, bins, _ = plt.hist(length, bins=np.arange(0, 70001, 1000))\n",
    "plt.ylabel(\"Frequency\")\n",
    "plt.xlabel(\"Appearance in Doc\")\n",
    "plt.show()"
   ]
  },
  {
   "cell_type": "code",
   "execution_count": 53,
   "metadata": {},
   "outputs": [
    {
     "name": "stdout",
     "output_type": "stream",
     "text": [
      "00000-01000 : 14895103\n",
      "01000-02000 : 15513\n",
      "02000-03000 : 5399\n",
      "03000-04000 : 2544\n",
      "04000-05000 : 1688\n",
      "05000-06000 : 1251\n",
      "06000-07000 : 964\n",
      "07000-08000 : 787\n",
      "08000-09000 : 676\n",
      "09000-10000 : 497\n",
      "10000-11000 : 471\n",
      "11000-12000 : 426\n",
      "12000-13000 : 395\n",
      "13000-14000 : 302\n",
      "14000-15000 : 256\n",
      "15000-16000 : 248\n",
      "16000-17000 : 215\n",
      "17000-18000 : 211\n",
      "18000-19000 : 185\n",
      "19000-20000 : 185\n",
      "20000-21000 : 149\n",
      "21000-22000 : 165\n",
      "22000-23000 : 138\n",
      "23000-24000 : 151\n",
      "24000-25000 : 146\n",
      "25000-26000 : 126\n",
      "26000-27000 : 109\n",
      "27000-28000 : 113\n",
      "28000-29000 : 104\n",
      "29000-30000 : 121\n",
      "30000-31000 : 108\n",
      "31000-32000 : 116\n",
      "32000-33000 : 93\n",
      "33000-34000 : 89\n",
      "34000-35000 : 108\n",
      "35000-36000 : 94\n",
      "36000-37000 : 78\n",
      "37000-38000 : 97\n",
      "38000-39000 : 85\n",
      "39000-40000 : 77\n",
      "40000-41000 : 101\n",
      "41000-42000 : 79\n",
      "42000-43000 : 93\n",
      "43000-44000 : 74\n",
      "44000-45000 : 63\n",
      "45000-46000 : 65\n",
      "46000-47000 : 81\n",
      "47000-48000 : 61\n",
      "48000-49000 : 58\n",
      "49000-50000 : 65\n",
      "50000-51000 : 63\n",
      "51000-52000 : 66\n",
      "52000-53000 : 49\n",
      "53000-54000 : 37\n",
      "54000-55000 : 54\n",
      "55000-56000 : 38\n",
      "56000-57000 : 34\n",
      "57000-58000 : 26\n",
      "58000-59000 : 28\n",
      "59000-60000 : 35\n",
      "60000-61000 : 25\n",
      "61000-62000 : 30\n",
      "62000-63000 : 18\n",
      "63000-64000 : 4\n",
      "64000-65000 : 5\n",
      "65000-66000 : 1\n",
      "66000-67000 : 0\n",
      "67000-68000 : 0\n",
      "68000-69000 : 0\n",
      "69000-70000 : 0\n"
     ]
    }
   ],
   "source": [
    "for i, count in enumerate(n):\n",
    "    print(f\"{int(bins[i]):05d}-{int(bins[i+1]):05d} : {int(count)}\")"
   ]
  },
  {
   "cell_type": "code",
   "execution_count": 1,
   "metadata": {},
   "outputs": [
    {
     "ename": "NameError",
     "evalue": "name 'n' is not defined",
     "output_type": "error",
     "traceback": [
      "\u001b[1;31m---------------------------------------------------------------------------\u001b[0m",
      "\u001b[1;31mNameError\u001b[0m                                 Traceback (most recent call last)",
      "Cell \u001b[1;32mIn[1], line 1\u001b[0m\n\u001b[1;32m----> 1\u001b[0m \u001b[38;5;28msum\u001b[39m(n[\u001b[38;5;241m1\u001b[39m:])\n",
      "\u001b[1;31mNameError\u001b[0m: name 'n' is not defined"
     ]
    }
   ],
   "source": [
    "sum(n[1:])"
   ]
  },
  {
   "cell_type": "code",
   "execution_count": null,
   "metadata": {},
   "outputs": [],
   "source": []
  },
  {
   "cell_type": "code",
   "execution_count": 7,
   "metadata": {},
   "outputs": [
    {
     "data": {
      "text/plain": [
       "(357847382,)"
      ]
     },
     "execution_count": 7,
     "metadata": {},
     "output_type": "execute_result"
    }
   ],
   "source": [
    "kwsearch.lookup_table.indices.shape"
   ]
  },
  {
   "cell_type": "code",
   "execution_count": 8,
   "metadata": {},
   "outputs": [
    {
     "data": {
      "text/plain": [
       "(14930836, 72535)"
      ]
     },
     "execution_count": 8,
     "metadata": {},
     "output_type": "execute_result"
    }
   ],
   "source": [
    "kwsearch.lookup_table.shape"
   ]
  },
  {
   "cell_type": "code",
   "execution_count": 11,
   "metadata": {},
   "outputs": [
    {
     "data": {
      "text/plain": [
       "(8565,)"
      ]
     },
     "execution_count": 11,
     "metadata": {},
     "output_type": "execute_result"
    }
   ],
   "source": [
    "kwsearch.lookup_table.getrow(1).indices.shape"
   ]
  },
  {
   "cell_type": "code",
   "execution_count": 2,
   "metadata": {},
   "outputs": [
    {
     "name": "stdout",
     "output_type": "stream",
     "text": [
      "2987 segments to load\n"
     ]
    },
    {
     "name": "stderr",
     "output_type": "stream",
     "text": [
      "Loading segments: 100%|██████████| 2987/2987 [03:01<00:00, 16.48it/s]\n",
      "Merging segments: 100%|██████████| 2987/2987 [00:29<00:00, 99.58it/s] \n"
     ]
    },
    {
     "name": "stdout",
     "output_type": "stream",
     "text": [
      "\n",
      "Garbage collection done\n",
      "The index took 3 minutes  33 seconds to load\n",
      "All done\n"
     ]
    }
   ],
   "source": [
    "index = loader.load_merged_index(max_workers=8, dummy=True)"
   ]
  },
  {
   "cell_type": "code",
   "execution_count": 3,
   "metadata": {},
   "outputs": [],
   "source": [
    "assert len(index) == len(loader.all_tokens)"
   ]
  },
  {
   "cell_type": "code",
   "execution_count": 4,
   "metadata": {},
   "outputs": [
    {
     "name": "stderr",
     "output_type": "stream",
     "text": [
      "Constructing lookup table: 100%|██████████| 14930836/14930836 [15:56<00:00, 15604.60it/s]\n"
     ]
    }
   ],
   "source": [
    "table = utils.construct_bool_table(index, all_tokens=loader.all_tokens, valid_books=loader.processed_books)"
   ]
  },
  {
   "cell_type": "code",
   "execution_count": 5,
   "metadata": {},
   "outputs": [
    {
     "data": {
      "text/plain": [
       "<14930836x72535 sparse matrix of type '<class 'numpy.bool_'>'\n",
       "\twith 357847382 stored elements in Compressed Sparse Row format>"
      ]
     },
     "execution_count": 5,
     "metadata": {},
     "output_type": "execute_result"
    }
   ],
   "source": [
    "table"
   ]
  },
  {
   "cell_type": "code",
   "execution_count": 10,
   "metadata": {},
   "outputs": [
    {
     "name": "stdout",
     "output_type": "stream",
     "text": [
      "Lookup table size: 1.72 GB\n"
     ]
    }
   ],
   "source": [
    "print(f\"Lookup table size: {(table.data.nbytes + table.indices.nbytes + table.indptr.nbytes) / 1024 / 1024 / 1024:.2f} GB\")"
   ]
  },
  {
   "cell_type": "code",
   "execution_count": 2,
   "metadata": {},
   "outputs": [],
   "source": [
    "part_size = 20000\n",
    "num_books = len(loader.processed_books)\n",
    "num_parts = num_books // part_size\n",
    "if num_books % part_size:\n",
    "    num_parts += 1\n",
    "i = 0\n",
    "continue_from = 2"
   ]
  },
  {
   "cell_type": "code",
   "execution_count": 3,
   "metadata": {},
   "outputs": [
    {
     "name": "stdout",
     "output_type": "stream",
     "text": [
      "\n",
      "Part 02\n"
     ]
    },
    {
     "data": {
      "application/vnd.jupyter.widget-view+json": {
       "model_id": "fdf2b13aee494e7999d75812a0c45263",
       "version_major": 2,
       "version_minor": 0
      },
      "text/plain": [
       "Submitting jobs:   0%|          | 0/20000 [00:00<?, ?it/s]"
      ]
     },
     "metadata": {},
     "output_type": "display_data"
    },
    {
     "data": {
      "application/vnd.jupyter.widget-view+json": {
       "model_id": "1a19b7c4aad84adc98c871cfad095684",
       "version_major": 2,
       "version_minor": 0
      },
      "text/plain": [
       "Initialising...:   0%|          | 0/20000 [00:00<?, ?it/s]"
      ]
     },
     "metadata": {},
     "output_type": "display_data"
    },
    {
     "name": "stdout",
     "output_type": "stream",
     "text": [
      "0/20000 failures while building index\n"
     ]
    },
    {
     "data": {
      "application/vnd.jupyter.widget-view+json": {
       "model_id": "5e463a91909e48798758d17a93eff6f0",
       "version_major": 2,
       "version_minor": 0
      },
      "text/plain": [
       "Dumping (pickle):   0%|          | 0/2987 [00:00<?, ?it/s]"
      ]
     },
     "metadata": {},
     "output_type": "display_data"
    },
    {
     "name": "stdout",
     "output_type": "stream",
     "text": [
      "\n",
      "Part 03\n"
     ]
    },
    {
     "data": {
      "application/vnd.jupyter.widget-view+json": {
       "model_id": "49a7272e08e846098a53ea6a6e758f1a",
       "version_major": 2,
       "version_minor": 0
      },
      "text/plain": [
       "Submitting jobs:   0%|          | 0/10974 [00:00<?, ?it/s]"
      ]
     },
     "metadata": {},
     "output_type": "display_data"
    },
    {
     "data": {
      "application/vnd.jupyter.widget-view+json": {
       "model_id": "7b0dacee0a3f4eefa86b49719d5da5c5",
       "version_major": 2,
       "version_minor": 0
      },
      "text/plain": [
       "Initialising...:   0%|          | 0/10974 [00:00<?, ?it/s]"
      ]
     },
     "metadata": {},
     "output_type": "display_data"
    },
    {
     "name": "stdout",
     "output_type": "stream",
     "text": [
      "0/10974 failures while building index\n"
     ]
    },
    {
     "data": {
      "application/vnd.jupyter.widget-view+json": {
       "model_id": "29999b7d2f704a568d645bfd1ee4285c",
       "version_major": 2,
       "version_minor": 0
      },
      "text/plain": [
       "Dumping (pickle):   0%|          | 0/2987 [00:00<?, ?it/s]"
      ]
     },
     "metadata": {},
     "output_type": "display_data"
    }
   ],
   "source": [
    "with concurrent.futures.ProcessPoolExecutor(max_workers=8) as pool:\n",
    "    for i in range(continue_from, num_parts):\n",
    "        gc.collect()\n",
    "        print(f\"\\nPart {i:02d}\", flush=True)\n",
    "        indexing.build_full_index(pool, offset=i*part_size, k=part_size, batch_size=500, index_type=\"inverted\", prefix=f\"part{i:02d}\")"
   ]
  },
  {
   "cell_type": "code",
   "execution_count": 4,
   "metadata": {},
   "outputs": [
    {
     "name": "stdout",
     "output_type": "stream",
     "text": [
      "2987 segments to merge\n",
      "Finished merging parts for 2987 segments...\n",
      "All done\n"
     ]
    }
   ],
   "source": [
    "gc.collect()\n",
    "indexing.merge_index()"
   ]
  },
  {
   "cell_type": "code",
   "execution_count": 2,
   "metadata": {},
   "outputs": [
    {
     "name": "stdout",
     "output_type": "stream",
     "text": [
      "2987 segments to load\n"
     ]
    },
    {
     "data": {
      "application/vnd.jupyter.widget-view+json": {
       "model_id": "ab15dd2409df4ce48c982eb65ae87c2f",
       "version_major": 2,
       "version_minor": 0
      },
      "text/plain": [
       "Saving json segments:   0%|          | 0/2987 [00:00<?, ?it/s]"
      ]
     },
     "metadata": {},
     "output_type": "display_data"
    }
   ],
   "source": [
    "utils.pickle_to_json()"
   ]
  },
  {
   "cell_type": "code",
   "execution_count": null,
   "metadata": {},
   "outputs": [],
   "source": [
    "import numpy as np\n",
    "import scipy.sparse\n",
    "from pympler.asizeof import asizeof\n",
    "\n",
    "%load_ext line_profiler"
   ]
  },
  {
   "cell_type": "code",
   "execution_count": 3,
   "metadata": {},
   "outputs": [
    {
     "data": {
      "application/vnd.jupyter.widget-view+json": {
       "model_id": "af1ef1b00fb240a4ae3ad717ff52928c",
       "version_major": 2,
       "version_minor": 0
      },
      "text/plain": [
       "Submitting jobs:   0%|          | 0/20000 [00:00<?, ?it/s]"
      ]
     },
     "metadata": {},
     "output_type": "display_data"
    },
    {
     "data": {
      "application/vnd.jupyter.widget-view+json": {
       "model_id": "767e078f94a04b969f9824fd53cb440f",
       "version_major": 2,
       "version_minor": 0
      },
      "text/plain": [
       "Initialising...:   0%|          | 0/20000 [00:00<?, ?it/s]"
      ]
     },
     "metadata": {},
     "output_type": "display_data"
    },
    {
     "name": "stdout",
     "output_type": "stream",
     "text": [
      "0/20000 failures while building index\n"
     ]
    },
    {
     "name": "stdout",
     "output_type": "stream",
     "text": [
      "Timer unit: 1e-07 s\n",
      "\n",
      "Total time: 8073.43 s\n",
      "File: c:\\Users\\10022\\Documents\\GitHub\\ttds-group-project\\KeywordSearch\\indexing.py\n",
      "Function: build_full_index at line 39\n",
      "\n",
      "Line #      Hits         Time  Per Hit   % Time  Line Contents\n",
      "==============================================================\n",
      "    39                                           def build_full_index(offset: int=0, k: int=-1, batch_size: int=50, index_type: str=\"inverted\", prefix: str=\"\", skip_pickle: bool=False) -> tuple[list, list]:\n",
      "    40         1          6.0      6.0      0.0      assert index_type in (\"bow\", \"inverted\"), \"index_type must be \\\"bow\\\" or \\\"inverted\\\"\"\n",
      "    41                                           \n",
      "    42         2        788.0    394.0      0.0      with open(\"processed_books.pkl\", \"rb\") as f:\n",
      "    43         1      21244.0  21244.0      0.0          processed_books = pickle.load(f)\n",
      "    44         2       1320.0    660.0      0.0      with open(\"all_tokens.pkl\", \"rb\") as f:\n",
      "    45         1    9885855.0    1e+07      0.0          _, _, all_tokens = pickle.load(f)\n",
      "    46                                           \n",
      "    47         1         21.0     21.0      0.0      all_tokens = tuple(all_tokens)\n",
      "    48         1  108357578.0    1e+08      0.1      token_index_dict = ZeroDict((token, i) for i, token in enumerate(all_tokens))\n",
      "    49                                               \n",
      "    50         1         24.0     24.0      0.0      list_length = len(processed_books)\n",
      "    51         1         11.0     11.0      0.0      if offset >= list_length:\n",
      "    52                                                   return\n",
      "    53         1       8331.0   8331.0      0.0      books_to_index = sorted(processed_books)[offset:min(list_length, offset + k)]\n",
      "    54                                           \n",
      "    55         1   30797714.0    3e+07      0.0      index = [dict() for _ in all_tokens]\n",
      "    56         1         12.0     12.0      0.0      index_func = build_inverted_index_batch\n",
      "    57         1         22.0     22.0      0.0      index_size = len(all_tokens)\n",
      "    58                                           \n",
      "    59         1          6.0      6.0      0.0      completed_jobs = 0\n",
      "    60         1          8.0      8.0      0.0      failed_jobs = []\n",
      "    61         1         11.0     11.0      0.0      done_jobs = set()\n",
      "    62                                           \n",
      "    63         2   47209087.0    2e+07      0.1      with concurrent.futures.ProcessPoolExecutor() as pool:\n",
      "    64         1          5.0      5.0      0.0          jobs = dict()\n",
      "    65         2     197746.0  98873.0      0.0          with tqdm(total=len(books_to_index), desc=\"Submitting jobs\") as pbar:\n",
      "    66         1          9.0      9.0      0.0              list_length = len(books_to_index)\n",
      "    67         1          4.0      4.0      0.0              num_batches = list_length // batch_size\n",
      "    68         1          3.0      3.0      0.0              if list_length % batch_size:\n",
      "    69                                                           num_batches += 1\n",
      "    70        41        279.0      6.8      0.0              for i in range(num_batches):\n",
      "    71        40        199.0      5.0      0.0                  start = i * batch_size\n",
      "    72        40        614.0     15.3      0.0                  end = min(list_length, start + batch_size)\n",
      "    73        40       1791.0     44.8      0.0                  slice = books_to_index[start:end]\n",
      "    74        40   43576162.0    1e+06      0.1                  jobs[pool.submit(index_func, slice, token_index_dict)] = slice\n",
      "    75        40      12691.0    317.3      0.0                  pbar.update(len(slice))\n",
      "    76                                                   \n",
      "    77         2     351723.0 175861.5      0.0          with tqdm(total=len(books_to_index), desc=\"Initialising...\") as pbar:        \n",
      "    78         1       6978.0   6978.0      0.0              pbar.set_description(\"Indexing\")\n",
      "    79                                           \n",
      "    80        41        3e+10    7e+08     34.6              for job in concurrent.futures.as_completed(jobs):\n",
      "    81        40        600.0     15.0      0.0                  books = jobs[job]\n",
      "    82        40        132.0      3.3      0.0                  try:\n",
      "    83                                                               #job.result()\n",
      "    84  15593454   58046374.0      3.7      0.1                      for add_key, addition in job.result().items():\n",
      "    85  15593414   33630361.0      2.2      0.0                          if addition:\n",
      "    86  15593414 3594159689.0    230.5      4.5                              index[add_key].update(addition)\n",
      "    87        40        228.0      5.7      0.0                      del addition\n",
      "    88        40      22339.0    558.5      0.0                      done_jobs.update(books)\n",
      "    89                                                           except Exception as e:\n",
      "    90                                                               with open(LOG_PATH, 'a', encoding=\"UTF-8\") as f:\n",
      "    91                                                                   f.write(f\"Create index failure at {books}:\\n{''.join(traceback.format_exception(e))}\\n\")\n",
      "    92                                                               failed_jobs.extend(books)\n",
      "    93        40       8558.0    213.9      0.0                  job_size = len(books)\n",
      "    94        40        701.0     17.5      0.0                  completed_jobs += job_size\n",
      "    95        40   56194568.0    1e+06      0.1                  pbar.update(job_size)\n",
      "    96        40 1125168306.0    3e+07      1.4                  if completed_jobs % 5 is 0: gc.collect()\n",
      "    97                                           \n",
      "    98                                                           #print(f\"Finished building index for {complete_counter} books...\", end=\"\\r\")\n",
      "    99                                                       \n",
      "   100                                                       # concurrent.futures.wait(jobs)\n",
      "   101                                                       #print(f\"Finished building index for {complete_counter} books...\", flush=True)\n",
      "   102         1      10965.0  10965.0      0.0      print(f\"{len(failed_jobs)}/{len(books_to_index)} failures while building index\", flush=True)\n",
      "   103                                           \n",
      "   104         1  227142898.0    2e+08      0.3      del jobs\n",
      "   105         1    8271779.0    8e+06      0.0      gc.collect()\n",
      "   106                                               \n",
      "   107         1         28.0     28.0      0.0      if not skip_pickle:\n",
      "   108         1      67243.0  67243.0      0.0          if not os.path.exists(\"index\"):\n",
      "   109         1       2595.0   2595.0      0.0              os.mkdir(\"index\")\n",
      "   110         1          8.0      8.0      0.0          try:\n",
      "   111         2       6309.0   3154.5      0.0              with open(f\"done_jobs_{prefix}.pkl\", \"wb\") as f:\n",
      "   112         1     167476.0 167476.0      0.0                  pickle.dump(done_jobs, f)\n",
      "   113         1        5e+10    5e+10     58.8              save_in_batches(5000, index_type, index, prefix, index_size, unsafe_pickle=False)\n",
      "   114                                                   except Exception as e:\n",
      "   115                                                       print(e)\n",
      "   116                                                       print(\"Pickle Failure\")\n",
      "   117         1    8405956.0    8e+06      0.0          gc.collect()\n",
      "   118         1         23.0     23.0      0.0      return index, books_to_index"
     ]
    }
   ],
   "source": [
    "%lprun -f indexing.build_full_index indexing.build_full_index(offset=i*part_size, k=part_size, batch_size=500, index_type=\"inverted\", prefix=f\"part{i:02d}\")"
   ]
  },
  {
   "cell_type": "code",
   "execution_count": 2,
   "metadata": {},
   "outputs": [
    {
     "name": "stdout",
     "output_type": "stream",
     "text": [
      "70974 books to process\n"
     ]
    },
    {
     "data": {
      "application/vnd.jupyter.widget-view+json": {
       "model_id": "360ad7b05abc43f1a79554498d35ad15",
       "version_major": 2,
       "version_minor": 0
      },
      "text/plain": [
       "Initialising...:   0%|          | 0/70974 [00:00<?, ?it/s]"
      ]
     },
     "metadata": {},
     "output_type": "display_data"
    },
    {
     "name": "stdout",
     "output_type": "stream",
     "text": [
      "0/70974 pre-processing jobs failed:\n",
      "- \n"
     ]
    }
   ],
   "source": [
    "loader.process_first_k_books(k=-1, batch_size=50)"
   ]
  },
  {
   "cell_type": "code",
   "execution_count": 5,
   "metadata": {},
   "outputs": [
    {
     "name": "stdout",
     "output_type": "stream",
     "text": [
      "2987 segments to load\n"
     ]
    },
    {
     "data": {
      "application/vnd.jupyter.widget-view+json": {
       "model_id": "4a6a69a719e34a3b86a347adcb4421e8",
       "version_major": 2,
       "version_minor": 0
      },
      "text/plain": [
       "  0%|          | 0/2987 [00:00<?, ?it/s]"
      ]
     },
     "metadata": {},
     "output_type": "display_data"
    },
    {
     "data": {
      "application/vnd.jupyter.widget-view+json": {
       "model_id": "db6bcd178ca4473f8f6cb3f8b713cd18",
       "version_major": 2,
       "version_minor": 0
      },
      "text/plain": [
       "  0%|          | 0/2987 [00:00<?, ?it/s]"
      ]
     },
     "metadata": {},
     "output_type": "display_data"
    },
    {
     "name": "stdout",
     "output_type": "stream",
     "text": [
      "\n",
      "Garbage collection done\n",
      "The index took 55 seconds to load\n",
      "All done\n"
     ]
    }
   ],
   "source": [
    "gc.collect()\n",
    "index = loader.load_merged_index(save_merged=False)"
   ]
  },
  {
   "cell_type": "code",
   "execution_count": null,
   "metadata": {},
   "outputs": [],
   "source": [
    "from pympler.asizeof import asizeof"
   ]
  },
  {
   "cell_type": "code",
   "execution_count": 8,
   "metadata": {},
   "outputs": [
    {
     "data": {
      "text/plain": [
       "{}"
      ]
     },
     "execution_count": 8,
     "metadata": {},
     "output_type": "execute_result"
    }
   ],
   "source": [
    "index[10]"
   ]
  },
  {
   "cell_type": "code",
   "execution_count": 4,
   "metadata": {},
   "outputs": [
    {
     "data": {
      "text/plain": [
       "0"
      ]
     },
     "execution_count": 4,
     "metadata": {},
     "output_type": "execute_result"
    }
   ],
   "source": [
    "len(loader.all_tokens)"
   ]
  },
  {
   "cell_type": "code",
   "execution_count": 2,
   "metadata": {},
   "outputs": [
    {
     "name": "stdout",
     "output_type": "stream",
     "text": [
      "['fine AND ', 'okay AND (good OR NOT great)', ' AND', ' happy']\n",
      "['okay AND ', 'good OR NOT great', None, '']\n"
     ]
    },
    {
     "data": {
      "text/plain": [
       "513"
      ]
     },
     "execution_count": 2,
     "metadata": {},
     "output_type": "execute_result"
    }
   ],
   "source": [
    "and_set = indexing.stemmer.stemWords([\"fine\", \"okay\", \"happy\"])\n",
    "good = indexing.stemmer.stemWord(\"good\")\n",
    "not_great = indexing.stemmer.stemWord(\"great\")\n",
    "query = \"fine AND (okay AND (good OR NOT great)) AND happy\"\n",
    "result, _ = kwsearch._bool_search(query, debug=True)\n",
    "len(result)"
   ]
  },
  {
   "cell_type": "code",
   "execution_count": 3,
   "metadata": {},
   "outputs": [
    {
     "name": "stderr",
     "output_type": "stream",
     "text": [
      "Validating 513 results: 100%|██████████| 513/513 [00:14<00:00, 35.09it/s]\n"
     ]
    }
   ],
   "source": [
    "from tqdm import tqdm\n",
    "\n",
    "num_result = len(result)\n",
    "for book_id in tqdm(result, total=num_result, desc=f\"Validating {num_result} results\"):\n",
    "    with open(loader.token_dir + f\"PG{book_id}_tokens.txt\", 'r', encoding=\"UTF-8\", errors=\"ignore\") as f:\n",
    "        tokens = set(indexing.stemmer.stemWords(f.read().splitlines()))\n",
    "    assert all((term in tokens) for term in and_set) and ((good in tokens) or (not_great not in tokens))"
   ]
  },
  {
   "cell_type": "code",
   "execution_count": 4,
   "metadata": {},
   "outputs": [
    {
     "name": "stdout",
     "output_type": "stream",
     "text": [
      "Timer unit: 1e-07 s\n",
      "\n",
      "Total time: 0.0076213 s\n",
      "File: c:\\Users\\10022\\Documents\\GitHub\\ttds-group-project\\KeywordSearch\\kwsearch.py\n",
      "Function: bool_search at line 49\n",
      "\n",
      "Line #      Hits         Time  Per Hit   % Time  Line Contents\n",
      "==============================================================\n",
      "    49                                           def bool_search(query: str, debug: bool=False) -> set:\n",
      "    50         2          6.0      3.0      0.0      if debug:\n",
      "    51                                                   print(regex_bracket.split(query))\n",
      "    52         2         68.0     34.0      0.1      tokens = (bool_search_atomic(token, debug) for token in regex_bracket.split(query) if token)\n",
      "    53         2          8.0      4.0      0.0      is_not = is_and = is_or = False\n",
      "    54         2      19306.0   9653.0     25.3      valid, (is_not, is_and, is_or) = next(tokens)\n",
      "    55         6      50494.0   8415.7     66.3      for token_eval, (is_not_, is_and_, is_or_) in tokens:\n",
      "    56         4         73.0     18.2      0.1          if isinstance(token_eval, list):\n",
      "    57         1          3.0      3.0      0.0              is_not = is_not_; is_and = is_and_; is_or = is_or_\n",
      "    58         1          2.0      2.0      0.0              continue\n",
      "    59         3          8.0      2.7      0.0          if is_or:\n",
      "    60                                                       if is_not:\n",
      "    61                                                           valid |= (all_elems_set - token_eval)\n",
      "    62                                                       else:\n",
      "    63                                                           valid |= token_eval\n",
      "    64                                                       is_or = is_not = False\n",
      "    65         3          8.0      2.7      0.0          elif is_and:\n",
      "    66         3          6.0      2.0      0.0              if is_not:\n",
      "    67                                                           valid -= token_eval\n",
      "    68                                                       else:\n",
      "    69         3       6189.0   2063.0      8.1                  valid &= token_eval\n",
      "    70         3         19.0      6.3      0.0              is_and = is_not = False\n",
      "    71                                                   elif is_not:\n",
      "    72                                                       valid = all_elems_set - token_eval\n",
      "    73                                                   else:\n",
      "    74                                                       print(f\"Grammar error?\")\n",
      "    75                                                   \n",
      "    76         3         16.0      5.3      0.0          is_not = is_not_; is_and = is_and_; is_or = is_or_\n",
      "    77         2          7.0      3.5      0.0      return valid, (is_not, is_and, is_or)"
     ]
    }
   ],
   "source": [
    "%lprun -f kwsearch.bool_search kwsearch.bool_search(query)"
   ]
  },
  {
   "cell_type": "code",
   "execution_count": 7,
   "metadata": {},
   "outputs": [
    {
     "data": {
      "text/plain": [
       "{10007, 37174}"
      ]
     },
     "execution_count": 7,
     "metadata": {},
     "output_type": "execute_result"
    }
   ],
   "source": [
    "phrase_query = \"Upon a paper attached to the Narrative\".casefold().split(' ')\n",
    "kwsearch.phrase_search(phrase_query, index)"
   ]
  },
  {
   "cell_type": "code",
   "execution_count": 8,
   "metadata": {},
   "outputs": [
    {
     "name": "stdout",
     "output_type": "stream",
     "text": [
      "Timer unit: 1e-07 s\n",
      "\n",
      "Total time: 0.339141 s\n",
      "File: c:\\Users\\10022\\Documents\\GitHub\\ttds-group-project\\KeywordSearch\\kwsearch.py\n",
      "Function: phrase_search at line 134\n",
      "\n",
      "Line #      Hits         Time  Per Hit   % Time  Line Contents\n",
      "==============================================================\n",
      "   134                                           def phrase_search(words: list[str], index: list[dict] | tuple[dict], debug: bool=False):\n",
      "   135         1          5.0      5.0      0.0      search_result = []\n",
      "   136         1          2.0      2.0      0.0      if debug:\n",
      "   137                                                   print([stemmer.stemWord(word) for word in words if word not in stopwords_set])\n",
      "   138         1        214.0    214.0      0.0      word_ids = [token_index_dict[stemmer.stemWord(word)] for word in words if word not in stopwords_set]\n",
      "   139         1         43.0     43.0      0.0      index_entries = [index[i] for i in word_ids]\n",
      "   140         1         19.0     19.0      0.0      first = list(set(word_ids))\n",
      "   141         1     170087.0 170087.0      5.0      intersection = lookup_table[first.pop(), :].indices\n",
      "   142         4         41.0     10.2      0.0      for token_id in first:\n",
      "   143         3     300106.0 100035.3      8.8          intersection = np.intersect1d(intersection, lookup_table[token_id, :].indices, assume_unique=True)\n",
      "   144         1         17.0     17.0      0.0      del first, word_ids\n",
      "   145                                           \n",
      "   146     23579      63637.0      2.7      1.9      for docID in intersection:\n",
      "   147     23578     243854.0     10.3      7.2          occurs = (entry[docID] for entry in index_entries) # use generator to avoid wasting time on non-matches\n",
      "   148     23578     215095.0      9.1      6.3          first = next(occurs)\n",
      "   149     23578     175314.0      7.4      5.2          second = next(occurs)\n",
      "   150     23578    1828580.0     77.6     53.9          matches: np.ndarray = second[first[np.searchsorted(first, second, side=\"right\")-1] == second-1]\n",
      "   151     23578      42806.0      1.8      1.3          del first, second\n",
      "   152                                           \n",
      "   153     23578      70505.0      3.0      2.1          if matches.shape[0]:\n",
      "   154      2218      22348.0     10.1      0.7              for entry in occurs:\n",
      "   155      2216      93268.0     42.1      2.8                  i = np.searchsorted(matches, entry, side=\"right\")\n",
      "   156      2216      41178.0     18.6      1.2                  i[i==0] = 1\n",
      "   157      2216      71665.0     32.3      2.1                  matches = entry[matches[i-1] == entry-1]\n",
      "   158      2216      48241.0     21.8      1.4                  if not matches.any():\n",
      "   159      2211       4345.0      2.0      0.1                      break\n",
      "   160                                                       else:\n",
      "   161         2         23.0     11.5      0.0                  search_result.append(docID)\n",
      "   162         1         17.0     17.0      0.0      return set(search_result)"
     ]
    }
   ],
   "source": [
    "%lprun -f kwsearch.phrase_search kwsearch.phrase_search(phrase_query, index)"
   ]
  },
  {
   "cell_type": "code",
   "execution_count": 9,
   "metadata": {},
   "outputs": [
    {
     "data": {
      "text/plain": [
       "['upon', 'paper', 'attach', 'narrat']"
      ]
     },
     "execution_count": 9,
     "metadata": {},
     "output_type": "execute_result"
    }
   ],
   "source": [
    "[kwsearch.stemmer.stemWord(word) for word in phrase_query if word not in indexing.stopwords_set]"
   ]
  },
  {
   "cell_type": "code",
   "execution_count": 55,
   "metadata": {},
   "outputs": [],
   "source": [
    "from KeywordSearch.kwsearch import stemmer, token_index_dict, lookup_table, book_index\n",
    "from KeywordSearch.indexing import stopwords_set\n",
    "import numpy as np\n",
    "\n",
    "def phrase_search(words: list[str], debug: bool=False):\n",
    "    search_result = []\n",
    "    if debug:\n",
    "        print([stemmer.stemWord(word) for word in words if word not in stopwords_set])\n",
    "    word_ids = [token_index_dict[stemmer.stemWord(word)] for word in words if word not in stopwords_set]\n",
    "    index_entries = [index[i] for i in word_ids]\n",
    "    first = list(set(word_ids))\n",
    "    intersection = lookup_table[first.pop(), :].indices\n",
    "    for token_id in first:\n",
    "        intersection = np.intersect1d(intersection, lookup_table[token_id, :].indices, assume_unique=True)\n",
    "    del first, word_ids\n",
    "\n",
    "    for docID in intersection:\n",
    "        occurs = (entry[docID] for entry in index_entries) # use generator to avoid wasting time on non-matches\n",
    "        first = next(occurs)\n",
    "        second = next(occurs)\n",
    "        matches: np.ndarray = second[first[np.searchsorted(first, second, side=\"right\")-1] == second-1]\n",
    "        del first, second\n",
    "\n",
    "        if matches.shape[0]:\n",
    "            for entry in occurs:\n",
    "                i = np.searchsorted(matches, entry, side=\"right\")\n",
    "                i[i==0] = 1\n",
    "                matches = entry[matches[i-1] == entry-1]\n",
    "                if not matches.any():\n",
    "                    break\n",
    "            else:\n",
    "                search_result.append(docID)\n",
    "    return set(search_result)"
   ]
  },
  {
   "cell_type": "code",
   "execution_count": 56,
   "metadata": {},
   "outputs": [
    {
     "data": {
      "text/plain": [
       "{10007, 37174}"
      ]
     },
     "execution_count": 56,
     "metadata": {},
     "output_type": "execute_result"
    }
   ],
   "source": [
    "phrase_search(\"Upon a paper attached to the Narrative\".casefold().split(' '))"
   ]
  },
  {
   "cell_type": "code",
   "execution_count": null,
   "metadata": {},
   "outputs": [
    {
     "name": "stdout",
     "output_type": "stream",
     "text": [
      "44GB 370MB\n"
     ]
    }
   ],
   "source": [
    "gc.collect()\n",
    "from pympler.asizeof import asizeof\n",
    "index_size = asizeof(index)\n",
    "mb = 1024 * 1024\n",
    "gb = mb * 1024\n",
    "gb_size = index_size // gb\n",
    "mb_size = round((index_size % gb) / mb)\n",
    "print(f\"{gb_size}GB\" + f\" {mb_size}MB\" if mb_size else '')"
   ]
  },
  {
   "cell_type": "code",
   "execution_count": null,
   "metadata": {},
   "outputs": [],
   "source": [
    "all_tokens = loader.load_token_vocab(k=-1)"
   ]
  },
  {
   "cell_type": "code",
   "execution_count": null,
   "metadata": {},
   "outputs": [],
   "source": [
    "import pickle\n",
    "with open(\"valid_books.pkl\", \"rb\") as f:\n",
    "    _, _, valid_books = pickle.load(f)"
   ]
  },
  {
   "cell_type": "code",
   "execution_count": null,
   "metadata": {},
   "outputs": [
    {
     "data": {
      "text/plain": [
       "(5696023, 5696023)"
      ]
     },
     "execution_count": 10,
     "metadata": {},
     "output_type": "execute_result"
    }
   ],
   "source": [
    "len(all_tokens), len(index)"
   ]
  },
  {
   "cell_type": "code",
   "execution_count": null,
   "metadata": {},
   "outputs": [],
   "source": [
    "from typing import Iterable\n",
    "\n",
    "import numpy as np\n",
    "import scipy.sparse\n",
    "try:\n",
    "    from tqdm.notebook import tqdm\n",
    "    USE_TQDM = True\n",
    "except:\n",
    "    USE_TQDM = False\n",
    "\n",
    "def construct_bool_table(index: Iterable[dict], save_path: str|None=None):\n",
    "    table = scipy.sparse.dok_matrix((len(all_tokens), max(valid_books) + 1), dtype=np.bool_)\n",
    "    print(len(index), table.shape)\n",
    "    length = len(all_tokens)\n",
    "    tqdm_iter = enumerate(index[:length])\n",
    "    if USE_TQDM:\n",
    "        tqdm_iter = tqdm(tqdm_iter, total=length)\n",
    "    for token_id, token_dict in tqdm_iter:\n",
    "        if token_dict:\n",
    "            table[token_id, tuple(token_dict.keys())] = True\n",
    "    gc.collect()\n",
    "    table = table.tocsr()\n",
    "    if save_path is None:\n",
    "        return table\n",
    "    else:\n",
    "        gc.collect()\n",
    "        scipy.sparse.save_npz(\"lookup_table.npz\", table, compressed=True)\n",
    "        return table"
   ]
  },
  {
   "cell_type": "code",
   "execution_count": null,
   "metadata": {},
   "outputs": [
    {
     "data": {
      "text/plain": [
       "1063"
      ]
     },
     "execution_count": 16,
     "metadata": {},
     "output_type": "execute_result"
    }
   ],
   "source": [
    "(table.data.nbytes + table.indptr.nbytes + table.indices.nbytes) // 1024 // 1024"
   ]
  },
  {
   "cell_type": "code",
   "execution_count": null,
   "metadata": {},
   "outputs": [],
   "source": [
    "dok_table: scipy.sparse.dok_matrix = table.todok()"
   ]
  },
  {
   "cell_type": "code",
   "execution_count": null,
   "metadata": {},
   "outputs": [],
   "source": [
    "asizeof(dok_table) // 1024 // 1024"
   ]
  },
  {
   "cell_type": "code",
   "execution_count": null,
   "metadata": {},
   "outputs": [],
   "source": [
    "asizeof(table) // 1024 // 1024"
   ]
  },
  {
   "cell_type": "code",
   "execution_count": null,
   "metadata": {},
   "outputs": [],
   "source": [
    "scipy.sparse.save_npz(\"lookup_table_coo.npz\", table.tocoo(), compressed=True)"
   ]
  },
  {
   "cell_type": "code",
   "execution_count": null,
   "metadata": {},
   "outputs": [
    {
     "data": {
      "text/plain": [
       "(True, 5695000)"
      ]
     },
     "execution_count": 7,
     "metadata": {},
     "output_type": "execute_result"
    }
   ],
   "source": [
    "x = list(range(5696023))\n",
    "y = []\n",
    "index_size = len(x)\n",
    "batch_size = 5000\n",
    "batches = index_size // batch_size\n",
    "for i in range(batches):\n",
    "    start = i * batch_size\n",
    "    end = min(start + batch_size, index_size)\n",
    "    y.extend(x[start:end])\n",
    "\n",
    "y.extend(x[end:])\n",
    "x == y, end"
   ]
  },
  {
   "cell_type": "code",
   "execution_count": null,
   "metadata": {},
   "outputs": [
    {
     "data": {
      "text/plain": [
       "5696023"
      ]
     },
     "execution_count": 56,
     "metadata": {},
     "output_type": "execute_result"
    }
   ],
   "source": [
    "with open(\"all_tokens_old.pkl\", 'rb') as f:\n",
    "    _, _, all_tokens_old = pickle.load(f)\n",
    "len(all_tokens_old)"
   ]
  },
  {
   "cell_type": "code",
   "execution_count": null,
   "metadata": {},
   "outputs": [],
   "source": [
    "# inverted_index_2, indexed_books_2 = indexing.build_full_index(offset=5000, k=5000, batch_size=-1, index_type=\"inverted\", prefix=\"part02\")\n",
    "# import h5py\n",
    "# def save_inv_index_HDF5(filename: str, index: list[dict], **kwargs):\n",
    "#     with h5py.File(filename, 'w') as f:\n",
    "#         for i, entry in enumerate(index):\n",
    "#             group = f.create_group(str(i))\n",
    "#             for book_id, occurrences in entry.items():\n",
    "#                 group.create_dataset(str(book_id), data=occurrences, **kwargs)\n",
    "# save_inv_index_HDF5(\"test.h5\", inverted_index_1, chunks=True, compression=\"gzip\")"
   ]
  },
  {
   "cell_type": "code",
   "execution_count": null,
   "metadata": {},
   "outputs": [],
   "source": []
  },
  {
   "cell_type": "code",
   "execution_count": null,
   "metadata": {},
   "outputs": [],
   "source": [
    "import pickle\n",
    "import numpy as np\n",
    "\n",
    "with open(\"index/inverted_113.pkl\", \"rb\") as f:\n",
    "    first = pickle.load(f)"
   ]
  },
  {
   "cell_type": "code",
   "execution_count": null,
   "metadata": {},
   "outputs": [],
   "source": [
    "len(first)\n"
   ]
  },
  {
   "cell_type": "code",
   "execution_count": null,
   "metadata": {},
   "outputs": [],
   "source": [
    "#bow_index, indexed_books = indexing.build_full_index(k=-1)"
   ]
  },
  {
   "cell_type": "code",
   "execution_count": null,
   "metadata": {},
   "outputs": [],
   "source": [
    "import pickle\n",
    "import numpy as np\n",
    "\n",
    "with open(\"index.pkl\", \"rb\") as f:\n",
    "    bow_index = pickle.load(f)\n",
    "# dummy_arr = np.array([], dtype=np.uint8)\n",
    "# dummy = (0, dummy_arr, 0, dummy_arr)\n",
    "# bow_index = tuple([dummy] + [pair if isinstance(pair, tuple) else dummy for pair in bow_index[1:]])\n",
    "# with open(\"index.pkl\", \"wb\") as f:\n",
    "#     pickle.dump(bow_index, f)\n",
    "\n",
    "with open(\"valid_books.pkl\", \"rb\") as f:\n",
    "    _, _, valid_books = pickle.load(f)\n",
    "\n",
    "book_list = sorted(valid_books)\n",
    "\n",
    "non_empty_books = []\n",
    "non_empty_index = []\n",
    "for book_id, book_bow in enumerate(bow_index):\n",
    "    if book_bow:\n",
    "        non_empty_books.append(book_id)\n",
    "        non_empty_index.append(book_bow)"
   ]
  },
  {
   "cell_type": "code",
   "execution_count": null,
   "metadata": {},
   "outputs": [],
   "source": [
    "from gensim.corpora import Dictionary\n",
    "from gensim.models import TfidfModel\n",
    "from gensim.similarities import MatrixSimilarity, SparseMatrixSimilarity\n",
    "import concurrent.futures"
   ]
  },
  {
   "cell_type": "code",
   "execution_count": null,
   "metadata": {},
   "outputs": [],
   "source": [
    "# corpus = [utils.deltazip([vocab, counts], [vocab_delta, count_delta]) for vocab_delta, vocab, count_delta, counts in non_empty_index]\n",
    "# tfidf_model = TfidfModel(corpus, smartirs='ntc')\n",
    "# with open(\"tfidf_model.pkl\", \"wb\") as f:\n",
    "#     pickle.dump(tfidf_model, f)\n",
    "with open(\"tfidf_model.pkl\", \"rb\") as f:\n",
    "    tfidf_model = pickle.load(f)"
   ]
  },
  {
   "cell_type": "code",
   "execution_count": null,
   "metadata": {},
   "outputs": [],
   "source": [
    "dim = len(all_tokens) + 1\n",
    "def cast2numpy(x):\n",
    "    arr = np.zeros(dim, dtype=np.float16)\n",
    "    for i, score in x:\n",
    "        arr[i] = score\n",
    "    return arr"
   ]
  },
  {
   "cell_type": "code",
   "execution_count": null,
   "metadata": {},
   "outputs": [],
   "source": [
    "first = [tfidf_model[utils.deltazip([vocab, counts], [vocab_delta, count_delta])] for vocab_delta, vocab, count_delta, counts in non_empty_index]\n",
    "# with open(\"tfidf_index.pkl\", \"rb\") as f:\n",
    "#     tmp = pickle.load(f)"
   ]
  },
  {
   "cell_type": "code",
   "execution_count": null,
   "metadata": {},
   "outputs": [],
   "source": [
    "tfidf_model[[(0,1),(3,8)]]"
   ]
  },
  {
   "cell_type": "code",
   "execution_count": null,
   "metadata": {},
   "outputs": [],
   "source": [
    "vocab_delta, vocab, count_delta, counts = non_empty_index[0]\n",
    "cast2numpy(tfidf_model[utils.deltazip([vocab, counts], [vocab_delta, count_delta])]).mean()"
   ]
  },
  {
   "cell_type": "code",
   "execution_count": null,
   "metadata": {},
   "outputs": [],
   "source": [
    "dim = len(all_tokens) + 1"
   ]
  },
  {
   "cell_type": "code",
   "execution_count": null,
   "metadata": {},
   "outputs": [],
   "source": [
    "m1 = SparseMatrixSimilarity(first, num_best=10, num_features=dim)"
   ]
  },
  {
   "cell_type": "code",
   "execution_count": null,
   "metadata": {},
   "outputs": [],
   "source": [
    "with open(\"tfidf_index.pkl\", \"wb\") as f:\n",
    "    pickle.dump(first, f)\n",
    "with open(\"matrix.pkl\", \"wb\") as f:\n",
    "    pickle.dump(m1, f)"
   ]
  },
  {
   "cell_type": "code",
   "execution_count": null,
   "metadata": {},
   "outputs": [],
   "source": [
    "asizeof.asizeof(first)/1024/1024/1024"
   ]
  },
  {
   "cell_type": "code",
   "execution_count": null,
   "metadata": {},
   "outputs": [],
   "source": [
    "asizeof.asizeof(m1)/1024/1024/1024"
   ]
  },
  {
   "cell_type": "code",
   "execution_count": null,
   "metadata": {},
   "outputs": [],
   "source": [
    "vocab_delta, vocab, count_delta, counts = non_empty_index[269]\n",
    "next(utils.deltazip([vocab, counts], [vocab_delta, count_delta]))"
   ]
  },
  {
   "cell_type": "code",
   "execution_count": null,
   "metadata": {},
   "outputs": [],
   "source": [
    "non_empty_index[269]"
   ]
  },
  {
   "cell_type": "code",
   "execution_count": null,
   "metadata": {},
   "outputs": [],
   "source": [
    "tokens = [1, 3, 1, 9, 3, 5654]\n",
    "vocab_list = sorted(set(tokens))\n",
    "token_arr = np.array(tokens)\n",
    "vocab, vocab_delta = utils.cast2intarr(vocab_list)\n",
    "counts, count_delta = utils.cast2intarr([np.sum(token_arr == token) for token in vocab_list])\n",
    "(vocab_delta, vocab, count_delta, counts, vocab_list, [(vocab == token-vocab_delta) for token in vocab_list])\n",
    "vocab + vocab_delta, counts + count_delta"
   ]
  },
  {
   "cell_type": "code",
   "execution_count": null,
   "metadata": {},
   "outputs": [],
   "source": [
    "book_path_template = loader.token_dir + \"PG%d_tokens.txt\"\n",
    "\n",
    "def read_tokens(PG_id: int):\n",
    "    with open(book_path_template %PG_id, encoding=\"UTF-8\", errors=\"ignore\") as f:\n",
    "        return loader.stemmer.stemWords(f.read().splitlines())"
   ]
  },
  {
   "cell_type": "code",
   "execution_count": null,
   "metadata": {},
   "outputs": [],
   "source": [
    "\n",
    "\n",
    "docs = []\n",
    "docs_index = []\n",
    "failed_jobs = 0\n",
    "complete_counter = 0\n",
    "with concurrent.futures.ThreadPoolExecutor() as pool:\n",
    "    jobs = {\n",
    "        pool.submit(\n",
    "            read_tokens, book_id)\n",
    "            : book_id for book_id in indexed_books\n",
    "        }\n",
    "    \n",
    "    for job in concurrent.futures.as_completed(jobs):\n",
    "        book_id = jobs[job]\n",
    "        try:\n",
    "            result = job.result()\n",
    "            docs.append(result)\n",
    "            docs_index.append(book_id)\n",
    "        except Exception as e:\n",
    "            # raise e\n",
    "            failed_jobs.append(book_id)\n",
    "        complete_counter += 1\n",
    "        print(f\"Finished fetching tokens in {complete_counter} books...\", end=\"\\r\")\n",
    "        \n",
    "        print(f\"\\n{len(failed_jobs)}/{len(jobs)} token fetching jobs failed\")"
   ]
  },
  {
   "cell_type": "code",
   "execution_count": null,
   "metadata": {},
   "outputs": [],
   "source": [
    "dictionary = Dictionary(docs)\n",
    "corpus = [dictionary.doc2bow(doc) for doc in docs]\n",
    "del docs\n",
    "tfidf = TfidfModel(corpus, smartirs='ntc')\n",
    "tfidf_corpus = [tfidf[doc] for doc in corpus]\n",
    "del corpus, tfidf\n",
    "index = MatrixSimilarity(tfidf_corpus, num_features=len(dictionary))"
   ]
  },
  {
   "cell_type": "code",
   "execution_count": null,
   "metadata": {},
   "outputs": [],
   "source": [
    "# import pickle\n",
    "# with open(\"all_tokens.pkl\", 'rb') as f:\n",
    "#     k, offset, _all_tokens = pickle.load(f)\n",
    "# with open(\"all_tokens.pkl\", \"wb\") as f:\n",
    "#     pickle.dump((k, offset, tuple(_all_tokens)), f)"
   ]
  },
  {
   "cell_type": "code",
   "execution_count": null,
   "metadata": {},
   "outputs": [],
   "source": [
    "from pympler import asizeof\n",
    "asizeof.asizeof(bow_index), asizeof.asizeof(index)"
   ]
  },
  {
   "cell_type": "code",
   "execution_count": null,
   "metadata": {},
   "outputs": [],
   "source": [
    "415963552/1024/1024"
   ]
  },
  {
   "cell_type": "code",
   "execution_count": null,
   "metadata": {},
   "outputs": [],
   "source": [
    "415971552/1024/1024"
   ]
  },
  {
   "cell_type": "code",
   "execution_count": null,
   "metadata": {},
   "outputs": [],
   "source": [
    "\n",
    "mem_size_lst = asizeof.asizeof(all_tokens)\n",
    "mem_size_tup = asizeof.asizeof(tuple(all_tokens))\n",
    "mem_size_lst/1024/1024, mem_size_tup"
   ]
  },
  {
   "cell_type": "code",
   "execution_count": null,
   "metadata": {},
   "outputs": [],
   "source": [
    "from math import log2\n",
    "import numpy as np\n",
    "log2(len(all_tokens))\n",
    "x = np.array([1,2,3])\n",
    "x.shape[0]"
   ]
  },
  {
   "cell_type": "code",
   "execution_count": null,
   "metadata": {},
   "outputs": [],
   "source": [
    "#loader.build_full_index()"
   ]
  },
  {
   "cell_type": "code",
   "execution_count": null,
   "metadata": {},
   "outputs": [],
   "source": [
    "import pickle"
   ]
  },
  {
   "cell_type": "code",
   "execution_count": null,
   "metadata": {},
   "outputs": [],
   "source": [
    "with open(\"index.pkl\", \"rb\") as f:\n",
    "    index = pickle.load(f)"
   ]
  },
  {
   "cell_type": "code",
   "execution_count": null,
   "metadata": {},
   "outputs": [],
   "source": [
    "from pympler import asizeof\n",
    "mem_size = asizeof.asizeof(index)"
   ]
  },
  {
   "cell_type": "code",
   "execution_count": null,
   "metadata": {},
   "outputs": [],
   "source": [
    "mem_size/1024/1024"
   ]
  },
  {
   "cell_type": "code",
   "execution_count": null,
   "metadata": {},
   "outputs": [],
   "source": [
    "index[1]"
   ]
  },
  {
   "cell_type": "code",
   "execution_count": null,
   "metadata": {},
   "outputs": [],
   "source": [
    "size = 0\n",
    "print(len(index))\n",
    "for i, token_eval in enumerate(index):\n",
    "    for arr in token_eval.values():\n",
    "        size += asizeof.asizeof(arr)\n",
    "    print(i, end='\\r')\n",
    "size"
   ]
  },
  {
   "cell_type": "code",
   "execution_count": null,
   "metadata": {},
   "outputs": [],
   "source": [
    "size/1024/1024"
   ]
  },
  {
   "cell_type": "code",
   "execution_count": 16,
   "metadata": {},
   "outputs": [],
   "source": [
    "import re\n",
    "import random\n",
    "\n",
    "random.seed(2050808)\n",
    "start, end = ord('a'), ord('z') + 1\n",
    "r1, r2, r3, r4 = re.compile(\"\\[.*?\\]\"), re.compile(\"\\[.*\\]\"), re.compile(r\"\\b\\w+\\b\"), re.compile(r\"\\W+\")\n",
    "\n",
    "tmp = [chr(random.randrange(start, end)) for _ in [0] * 1000000]\n",
    "rand_pos = []\n",
    "for _ in [0] * 100:\n",
    "    x = random.randrange(0, 1000000)\n",
    "    while x in rand_pos:\n",
    "        x = random.randrange(0, 1000000)\n",
    "    rand_pos.append(x)\n",
    "rand_pos.sort()\n",
    "\n",
    "while rand_pos:\n",
    "    tmp[rand_pos.pop()] = ']'\n",
    "    tmp[rand_pos.pop()] = '['\n",
    "\n",
    "test_str = ''.join(tmp)\n",
    "test_str2 = ''.join(''.join(chr(random.randrange(start, end)) for _ in [0] * random.randrange(5, 30)) + ' ' * random.randrange(1, 4) for _ in [0] * 100000)\n",
    "\n",
    "del tmp, rand_pos"
   ]
  },
  {
   "cell_type": "code",
   "execution_count": 17,
   "metadata": {},
   "outputs": [
    {
     "name": "stdout",
     "output_type": "stream",
     "text": [
      "2.27 ms ± 60.3 µs per loop (mean ± std. dev. of 7 runs, 100 loops each)\n"
     ]
    }
   ],
   "source": [
    "%timeit r1.findall(test_str)"
   ]
  },
  {
   "cell_type": "code",
   "execution_count": 18,
   "metadata": {},
   "outputs": [
    {
     "name": "stdout",
     "output_type": "stream",
     "text": [
      "260 µs ± 5.37 µs per loop (mean ± std. dev. of 7 runs, 1,000 loops each)\n"
     ]
    }
   ],
   "source": [
    "%timeit r2.findall(test_str)"
   ]
  },
  {
   "cell_type": "code",
   "execution_count": 19,
   "metadata": {},
   "outputs": [
    {
     "name": "stdout",
     "output_type": "stream",
     "text": [
      "2.26 ms ± 55 µs per loop (mean ± std. dev. of 7 runs, 100 loops each)\n"
     ]
    }
   ],
   "source": [
    "%timeit r1.findall(test_str)"
   ]
  },
  {
   "cell_type": "code",
   "execution_count": 27,
   "metadata": {},
   "outputs": [
    {
     "name": "stdout",
     "output_type": "stream",
     "text": [
      "21.2 ms ± 305 µs per loop (mean ± std. dev. of 7 runs, 10 loops each)\n"
     ]
    }
   ],
   "source": [
    "%timeit r3.findall(test_str2)"
   ]
  },
  {
   "cell_type": "code",
   "execution_count": 28,
   "metadata": {},
   "outputs": [
    {
     "name": "stdout",
     "output_type": "stream",
     "text": [
      "29.4 ms ± 754 µs per loop (mean ± std. dev. of 7 runs, 10 loops each)\n"
     ]
    }
   ],
   "source": [
    "%timeit r4.split(test_str2)"
   ]
  },
  {
   "cell_type": "code",
   "execution_count": null,
   "metadata": {},
   "outputs": [],
   "source": [
    "%tim"
   ]
  },
  {
   "cell_type": "code",
   "execution_count": 29,
   "metadata": {},
   "outputs": [
    {
     "data": {
      "text/plain": [
       "<function nltk.tokenize.sent_tokenize(text, language='english')>"
      ]
     },
     "execution_count": 29,
     "metadata": {},
     "output_type": "execute_result"
    }
   ],
   "source": [
    "import nltk\n",
    "nltk.tokenize.sent_tokenize"
   ]
  },
  {
   "cell_type": "code",
   "execution_count": null,
   "metadata": {},
   "outputs": [],
   "source": []
  }
 ],
 "metadata": {
  "kernelspec": {
   "display_name": "base",
   "language": "python",
   "name": "python3"
  },
  "language_info": {
   "codemirror_mode": {
    "name": "ipython",
    "version": 3
   },
   "file_extension": ".py",
   "mimetype": "text/x-python",
   "name": "python",
   "nbconvert_exporter": "python",
   "pygments_lexer": "ipython3",
   "version": "3.11.3"
  }
 },
 "nbformat": 4,
 "nbformat_minor": 2
}
