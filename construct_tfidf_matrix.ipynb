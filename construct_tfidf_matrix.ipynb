{
 "cells": [
  {
   "cell_type": "code",
   "execution_count": 1,
   "metadata": {},
   "outputs": [
    {
     "name": "stdout",
     "output_type": "stream",
     "text": [
      "Please ignore the syntax warnings as small integers in CPython are singletons\n",
      "Using `is` instead of `=` for comparison in performance-critical code is acceptable\n",
      "Downloading stopwords...\n"
     ]
    },
    {
     "name": "stderr",
     "output_type": "stream",
     "text": [
      "[nltk_data] Downloading package stopwords to\n",
      "[nltk_data]     C:\\Users\\10022\\AppData\\Roaming\\nltk_data...\n",
      "[nltk_data]   Package stopwords is already up-to-date!\n"
     ]
    },
    {
     "name": "stdout",
     "output_type": "stream",
     "text": [
      "All languages: ['afrikaans', 'arabic', 'breton', 'bulgarian', 'catalan', 'chinese', 'czech', 'danish', 'dutch', 'english', 'esperanto', 'estonian', 'finnish', 'french', 'galician', 'german', 'greek', 'hebrew', 'hungarian', 'icelandic', 'interlingua ', 'inuktitut', 'irish', 'italian', 'japanese', 'korean', 'latin', 'lithuanian', 'maori', 'norwegian', 'occitan ', 'persian', 'polish', 'portuguese', 'romanian', 'russian', 'sanskrit', 'serbian', 'slovenian', 'spanish', 'swedish', 'tagalog', 'telugu', 'tibetan', 'welsh', 'western frisian', 'yiddish']\n"
     ]
    }
   ],
   "source": [
    "import gc\n",
    "\n",
    "import numpy as np\n",
    "import scipy.sparse\n",
    "from tqdm import tqdm, trange\n",
    "\n",
    "from KeywordSearch import loader, indexing, utils, kwsearch, cloud_index"
   ]
  },
  {
   "cell_type": "code",
   "execution_count": 2,
   "metadata": {},
   "outputs": [],
   "source": [
    "def calculate_raw_tf(counts_index: list[dict], max_book_id: int, scale: float = 100.0, dtype=np.float32):\n",
    "    shape = (max_book_id + 1, len(counts_index))\n",
    "    mat = scipy.sparse.dok_matrix(shape, dtype=dtype)\n",
    "    for i, token_dict in tqdm(enumerate(counts_index), total=len(counts_index), ncols=80, miniters=5000):\n",
    "        mat[list(token_dict.keys()), i] = np.array(list(token_dict.values()), np.uint32) / scale # uint32 and divide by scale avoid overflow\n",
    "    return mat"
   ]
  },
  {
   "cell_type": "code",
   "execution_count": 3,
   "metadata": {},
   "outputs": [],
   "source": [
    "def calculate_idf(counts_index: list[dict], N_doc: int, smoothing: int=1, **kwargs):\n",
    "    n_t = np.array([len(d) for d in counts_index], **kwargs)\n",
    "    return np.log2((N_doc + smoothing) / (n_t + smoothing))"
   ]
  },
  {
   "cell_type": "code",
   "execution_count": 4,
   "metadata": {},
   "outputs": [],
   "source": [
    "N_doc = len(loader.processed_books)"
   ]
  },
  {
   "cell_type": "code",
   "execution_count": 5,
   "metadata": {},
   "outputs": [
    {
     "name": "stderr",
     "output_type": "stream",
     "text": [
      "Counting books: 100%|██████████| 70974/70974 [00:44<00:00, 1604.98it/s]\n"
     ]
    }
   ],
   "source": [
    "doc_len = indexing.fetch_all_doc_length(batch_size=100)"
   ]
  },
  {
   "cell_type": "code",
   "execution_count": 6,
   "metadata": {},
   "outputs": [
    {
     "name": "stdout",
     "output_type": "stream",
     "text": [
      "2987 segments to load\n"
     ]
    },
    {
     "name": "stderr",
     "output_type": "stream",
     "text": [
      "Loading segments: 100%|██████████| 2987/2987 [02:45<00:00, 18.09it/s]\n",
      "Merging segments: 100%|██████████| 2987/2987 [00:09<00:00, 299.43it/s]\n"
     ]
    },
    {
     "name": "stdout",
     "output_type": "stream",
     "text": [
      "\n",
      "Garbage collection done\n",
      "The index took 2 minutes  56 seconds to load\n",
      "All done\n"
     ]
    }
   ],
   "source": [
    "gc.collect()\n",
    "counts_index = loader.load_merged_index(max_workers=8, dummy=True)"
   ]
  },
  {
   "cell_type": "code",
   "execution_count": 7,
   "metadata": {},
   "outputs": [
    {
     "data": {
      "text/plain": [
       "0"
      ]
     },
     "execution_count": 7,
     "metadata": {},
     "output_type": "execute_result"
    }
   ],
   "source": [
    "gc.collect()\n",
    "doc_len_arr = np.array(utils.dict2arr(doc_len, dtype=np.float32), dtype=np.float32, ndmin=2).T\n",
    "del doc_len\n",
    "gc.collect()"
   ]
  },
  {
   "cell_type": "code",
   "execution_count": 8,
   "metadata": {},
   "outputs": [],
   "source": [
    "idf_arr = np.array(calculate_idf(counts_index, N_doc, dtype=np.float32), dtype=np.float16)"
   ]
  },
  {
   "cell_type": "code",
   "execution_count": 9,
   "metadata": {},
   "outputs": [
    {
     "name": "stderr",
     "output_type": "stream",
     "text": [
      "  0%|                                              | 0/14930836 [00:00<?, ?it/s]"
     ]
    },
    {
     "name": "stderr",
     "output_type": "stream",
     "text": [
      "100%|████████████████████████████| 14930836/14930836 [16:20<00:00, 15224.86it/s]\n"
     ]
    },
    {
     "data": {
      "text/plain": [
       "<72535x14930836 sparse matrix of type '<class 'numpy.float32'>'\n",
       "\twith 357847382 stored elements in Dictionary Of Keys format>"
      ]
     },
     "execution_count": 9,
     "metadata": {},
     "output_type": "execute_result"
    }
   ],
   "source": [
    "tf = calculate_raw_tf(counts_index, max(loader.processed_books), scale=100.0)\n",
    "tf"
   ]
  },
  {
   "cell_type": "code",
   "execution_count": 10,
   "metadata": {},
   "outputs": [
    {
     "name": "stderr",
     "output_type": "stream",
     "text": [
      "C:\\Users\\10022\\AppData\\Local\\Temp\\ipykernel_12348\\3638911516.py:1: RuntimeWarning: divide by zero encountered in divide\n",
      "  tfidf = tf.multiply(1 / (doc_len_arr)).multiply(1 / idf_arr)\n"
     ]
    },
    {
     "data": {
      "text/plain": [
       "0"
      ]
     },
     "execution_count": 10,
     "metadata": {},
     "output_type": "execute_result"
    }
   ],
   "source": [
    "tfidf = tf.multiply(1 / (doc_len_arr)).multiply(1 / idf_arr)\n",
    "del tf, counts_index\n",
    "gc.collect()"
   ]
  },
  {
   "cell_type": "code",
   "execution_count": 11,
   "metadata": {},
   "outputs": [
    {
     "name": "stderr",
     "output_type": "stream",
     "text": [
      "C:\\Users\\10022\\AppData\\Local\\Temp\\ipykernel_12348\\1259812916.py:3: RuntimeWarning: divide by zero encountered in divide\n",
      "  tfidf = tfidf.multiply(1 / norm) # normalization\n"
     ]
    }
   ],
   "source": [
    "# scipy's spare matrix multiplication code is very flawed, ndmin=2 and transpose are necessary\n",
    "norm = np.array(scipy.sparse.linalg.norm(tfidf, 2, axis=1), ndmin=2).T\n",
    "tfidf = tfidf.multiply(1 / norm) # normalization"
   ]
  },
  {
   "cell_type": "code",
   "execution_count": 14,
   "metadata": {},
   "outputs": [],
   "source": [
    "gc.collect()\n",
    "scipy.sparse.save_npz(\"KeywordSearch/tfidf.npz\", tfidf.tocsr().astype(np.float16))\n",
    "np.savez_compressed(\"KeywordSearch/idf.npz\", idf_arr)"
   ]
  }
 ],
 "metadata": {
  "kernelspec": {
   "display_name": "base",
   "language": "python",
   "name": "python3"
  },
  "language_info": {
   "codemirror_mode": {
    "name": "ipython",
    "version": 3
   },
   "file_extension": ".py",
   "mimetype": "text/x-python",
   "name": "python",
   "nbconvert_exporter": "python",
   "pygments_lexer": "ipython3",
   "version": "3.11.3"
  }
 },
 "nbformat": 4,
 "nbformat_minor": 2
}
