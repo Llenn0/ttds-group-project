{
 "cells": [
  {
   "cell_type": "code",
   "execution_count": 1,
   "metadata": {},
   "outputs": [
    {
     "name": "stdout",
     "output_type": "stream",
     "text": [
      "Please ignore the syntax warnings as small integers in CPython are singletons\n",
      "Using `is` instead of `=` for comparison in performance-critical code is acceptable\n",
      "Downloading stopwords...\n"
     ]
    },
    {
     "name": "stderr",
     "output_type": "stream",
     "text": [
      "[nltk_data] Downloading package stopwords to\n",
      "[nltk_data]     C:\\Users\\10022\\AppData\\Roaming\\nltk_data...\n",
      "[nltk_data]   Package stopwords is already up-to-date!\n"
     ]
    }
   ],
   "source": [
    "import os\n",
    "import re\n",
    "import pickle\n",
    "import concurrent.futures\n",
    "from glob import glob\n",
    "\n",
    "from tqdm import tqdm\n",
    "\n",
    "from KeywordSearch import loader\n",
    "from KeywordSearch.utils import construct_bool_table\n",
    "from KeywordSearch.cloud_index import prepare_tokendict_for_upload, upload_firestore"
   ]
  },
  {
   "cell_type": "code",
   "execution_count": 4,
   "metadata": {},
   "outputs": [],
   "source": [
    "from google.cloud import firestore\n",
    "db = firestore.Client(project=\"moonlit-oven-412316\")\n",
    "index_api = db.collection(\"index\")"
   ]
  },
  {
   "cell_type": "code",
   "execution_count": 13,
   "metadata": {},
   "outputs": [],
   "source": [
    "file_str = '''import os\n",
    "import re\n",
    "import pickle\n",
    "import concurrent.futures\n",
    "from glob import glob\n",
    "\n",
    "from tqdm import tqdm\n",
    "\n",
    "from KeywordSearch import loader\n",
    "from KeywordSearch.cloud_index import prepare_tokendict_for_upload, upload_firestore\n",
    "\n",
    "from google.cloud import firestore\n",
    "db = firestore.Client(project=\"moonlit-oven-412316\")\n",
    "index_api = db.collection(\"index\")\n",
    "\n",
    "pickled_segments = glob(\"*_merged.pkl\", root_dir=loader.index_dir)\n",
    "regex_segment_id = re.compile(\"([0-9]+)_merged.pkl\")\n",
    "checkpoint = %d\n",
    "stopat = %d\n",
    "\n",
    "num_segments = len(pickled_segments)\n",
    "with concurrent.futures.ThreadPoolExecutor(max_workers=8) as pool:\n",
    "    with tqdm(total=(stopat-checkpoint)*5000, desc=\"Initializing\", ncols=60, ascii=True) as pbar:\n",
    "        for counter, fname in enumerate(pickled_segments, 1):\n",
    "            segment_id = int(regex_segment_id.fullmatch(fname).group(1))\n",
    "            if segment_id < checkpoint or segment_id >= stopat:\n",
    "                continue\n",
    "            offset = 5000 * segment_id\n",
    "            with open(os.path.join(loader.index_dir, fname), \"rb\") as f:\n",
    "                current_slice = pickle.load(f)\n",
    "            pbar.set_description(f\"Segment {counter:4d}/{num_segments:4d}\")\n",
    "            jobs = {pool.submit(prepare_tokendict_for_upload, token_dict, i) : i \n",
    "                    for i, token_dict in enumerate(current_slice, start=offset)}\n",
    "            for i, job in enumerate(concurrent.futures.as_completed(jobs)):\n",
    "                token_id = jobs[job]\n",
    "                for doc in job.result():\n",
    "                    upload_firestore(doc, index_api)\n",
    "                if i % 100 is 0:\n",
    "                    pbar.update(100)'''\n",
    "\n",
    "range_str = '''checkpoint = %d\n",
    "stopat = %d'''\n",
    "\n",
    "for i, checkpoint in enumerate(range(0, 2800, 200)):\n",
    "    stopat = checkpoint + 200\n",
    "    with open(f\"u{i}\", 'w', encoding=\"utf-8\") as f:\n",
    "        f.write(file_str.replace(range_str, range_str %(checkpoint, stopat)))\n",
    "    with open(f\"run{i}.bat\", 'w', encoding=\"utf-8\") as f:\n",
    "        f.write(f\"python u{i}\\npause\\n\")\n",
    "\n",
    "i += 1\n",
    "with open(f\"u{i}\", 'w', encoding=\"utf-8\") as f:\n",
    "    f.write(file_str.replace(range_str, range_str %(2800, -1)).replace(\" or segment_id >= stopat\", '').replace(\"(stopat-checkpoint)*5000\", \"len(loader.all_tokens)-(checkpoint*5000)\"))\n",
    "with open(f\"run{i}.bat\", 'w', encoding=\"utf-8\") as f:\n",
    "    f.write(f\"python u{i}\\npause\\n\")\n"
   ]
  },
  {
   "cell_type": "code",
   "execution_count": 3,
   "metadata": {},
   "outputs": [],
   "source": [
    "# pickled_segments = glob(\"*_merged.pkl\", root_dir=loader.index_dir)\n",
    "# regex_segment_id = re.compile(\"([0-9]+)_merged.pkl\")\n",
    "# checkpoint = 122\n",
    "# stopat=400"
   ]
  },
  {
   "cell_type": "code",
   "execution_count": 4,
   "metadata": {},
   "outputs": [
    {
     "name": "stderr",
     "output_type": "stream",
     "text": [
      "<>:18: SyntaxWarning: \"is\" with a literal. Did you mean \"==\"?\n",
      "<>:18: SyntaxWarning: \"is\" with a literal. Did you mean \"==\"?\n",
      "C:\\Users\\10022\\AppData\\Local\\Temp\\ipykernel_17156\\2593883698.py:18: SyntaxWarning: \"is\" with a literal. Did you mean \"==\"?\n",
      "  if i % 100 is 0:\n",
      "Segment  400/2987: 100%|###################################################| 1390000/1390000 [12:41:47<00:00, 30.41it/s]\n"
     ]
    }
   ],
   "source": [
    "# num_segments = len(pickled_segments)\n",
    "# with concurrent.futures.ThreadPoolExecutor() as pool:\n",
    "#     with tqdm(total=(stopat-checkpoint)*5000, desc=\"Initializing\", ncols=120, ascii=True) as pbar:\n",
    "#         for counter, fname in enumerate(pickled_segments, 1):\n",
    "#             segment_id = int(regex_segment_id.fullmatch(fname).group(1))\n",
    "#             if segment_id < checkpoint or segment_id >= stopat:\n",
    "#                 continue\n",
    "#             offset = 5000 * segment_id\n",
    "#             with open(os.path.join(loader.index_dir, fname), \"rb\") as f:\n",
    "#                 current_slice = pickle.load(f)\n",
    "#             pbar.set_description(f\"Segment {counter:4d}/{num_segments:4d}\")\n",
    "#             jobs = {pool.submit(prepare_tokendict_for_upload, token_dict, i) : i \n",
    "#                     for i, token_dict in enumerate(current_slice, start=offset)}\n",
    "#             for i, job in enumerate(concurrent.futures.as_completed(jobs)):\n",
    "#                 token_id = jobs[job]\n",
    "#                 for doc in job.result():\n",
    "#                     upload_firestore(doc, index_api)\n",
    "#                 if i % 100 is 0:\n",
    "#                     pbar.update(100)"
   ]
  }
 ],
 "metadata": {
  "kernelspec": {
   "display_name": "base",
   "language": "python",
   "name": "python3"
  },
  "language_info": {
   "codemirror_mode": {
    "name": "ipython",
    "version": 3
   },
   "file_extension": ".py",
   "mimetype": "text/x-python",
   "name": "python",
   "nbconvert_exporter": "python",
   "pygments_lexer": "ipython3",
   "version": "3.11.3"
  }
 },
 "nbformat": 4,
 "nbformat_minor": 2
}
